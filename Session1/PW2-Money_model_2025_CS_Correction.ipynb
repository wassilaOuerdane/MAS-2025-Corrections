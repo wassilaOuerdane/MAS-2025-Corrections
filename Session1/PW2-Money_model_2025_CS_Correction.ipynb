{
 "cells": [
  {
   "cell_type": "markdown",
   "metadata": {
    "id": "UMiguR-N1Fri"
   },
   "source": [
    "\n",
    "\n",
    "\n",
    "<h6><center></center></h6>\n",
    "\n",
    "<h1>\n",
    "<hr style=\" border:none; height:3px;\">\n",
    "<center>Agent and Multi-Agent Systems </center>\n",
    "    <center> PW2 : The mesa plateform\n",
    "    </center>\n",
    "<hr style=\" border:none; height:3px;\">\n",
    "</h1>\n",
    "\n"
   ]
  },
  {
   "cell_type": "code",
   "execution_count": null,
   "metadata": {
    "id": "-fCfJHQsMC-U"
   },
   "outputs": [],
   "source": [
    "#!pip install -r requirements.txt"
   ]
  },
  {
   "cell_type": "code",
   "execution_count": 2,
   "metadata": {
    "id": "xvs-imMj1Frp"
   },
   "outputs": [],
   "source": [
    "import mesa"
   ]
  },
  {
   "cell_type": "markdown",
   "metadata": {
    "id": "KayEvLJP1Frq"
   },
   "source": [
    "### 1. Setting up the project"
   ]
  },
  {
   "cell_type": "markdown",
   "metadata": {
    "id": "uJKM_eFe1Frs"
   },
   "source": [
    "## Mesa Basics\n",
    "\n",
    "Implementing a multi-agent system in Mesa requires to define two core classes:\n",
    "\n",
    "- One for multiagent platform: it will inherit the `Mesa Model` class;\n",
    "- The other for the agents: it will inherit the `Mesa Agent` class.\n",
    "\n",
    "### Create Agent\n",
    "\n",
    "First create the agent.\n",
    "\n",
    "- Agents are the individual entities that act in the model. Mesa automatically assigns each agent that is created an integer as a `unique_id.`\n",
    "\n",
    "- The implementation is done by creating a new class (or object) that extends `mesa.Agent` creating a subclass of  the `Agent` class from mesa. The new class is named `MyAgent`. The inherited code of the Mesa agent object.\n",
    "\n",
    "### Create Model\n",
    "\n",
    "Next, create the model. This gives us the two basic classes of any Mesa ABM - the agent class (population of agent objects that doing something) and the manager class (a model object that manages the creation, activation, datacollection etc of the agents)\n",
    "\n",
    "- The model can be visualized as a list containing all the agents. The model creates, holds and manages all the agent objects, specifically in a dictionary. The model activates agents in discrete time steps.\n",
    "\n",
    "-  When a model is created the number of agents within the model is specified. The model then creates the agents and places them in a set of agents.\n",
    "\n",
    "- The implementation is done by creating a new class (or object) that extends `mesa.Model` and calls `super().__init__()`, creating a subclass of the `Model` class from mesa. The new class is named `MyModel`.  A critical point is that you can use the `seed` kwarg (keyword argument) to set a seed which controls the random number generator of the model class allowing for the reproducibility of results.\n",
    "\n",
    "\n",
    "### Making the Agents `do`\n",
    "\n",
    "With the basics of the Agent class and Model class created we can now activate the agents to `do` things\n",
    "\n",
    "-  Mesa's `do` function calls agent functions to grow your ABM. A step is the smallest unit of time in the model, and is often referred to as a tick. The `do` function and Python functionality can be configured to activate agents in different orders. This can be important as the order in which agents are activated can impact the results of the model. At each step of the model, one or more of the agents -- usually all of them -- are activated and take their own step, changing internally and/or interacting with one another or the environment.\n",
    "\n",
    "- For the following,  we will randomly reorder the Agent activation order using  `mesa.Agent.shuffle_do` and have the agents `step` function print the agent's unique id that they were assigned during the agent creation process.\n",
    "\n",
    "-  Using standard ABM convention we add a `step` function to the `MyModel` class which calls the `mesa.Agent.shuffle_do` function. We then pass into `shuffle_do` the parameter \"step\". This tells mesa to look for and execute the `step` function in our MyAgent class.  \n"
   ]
  },
  {
   "cell_type": "code",
   "execution_count": null,
   "metadata": {
    "id": "8YAJxi291Frt"
   },
   "outputs": [],
   "source": [
    "#DO NOT EXECUTE\n",
    "from mesa import Agent\n",
    "from mesa import Model\n",
    "\n",
    "\n",
    "class MyAgent(Agent):\n",
    "    def __init__(self, model):\n",
    "      \"\"\"Create a new agent.\n",
    "\n",
    "        Args:\n",
    "            model (Model): The model instance that contains the agent\n",
    "        \"\"\"\n",
    "      super().__init__(model)\n",
    "\n",
    "        #... define local variables here ...\n",
    "    def step(self):\n",
    "        #... define the perception-deliberation-action loop here ...\n",
    "        pass\n",
    "\n",
    "#and now let's create a MAS\n",
    "\n",
    "\n",
    "class MyModel(Model):\n",
    "    def __init__(self, some_arg_I_need, seed=None, some_kwarg_I_need=True):\n",
    "        super().__init__(seed=seed)  # Calling super is now required, passing seed is highly recommended\n",
    "        # Your model initialization code here\n",
    "        # this code uses some_arg_I_need and my_init_kwarg\n",
    "\n",
    "\n",
    "        # we need to create agent\n",
    "        newagent = MyAgent(self) #\n",
    "\n",
    "        #... do the same for all agents ...\n",
    "\n",
    "    def step(self):\n",
    "        self.agents.shuffle_do(\"step\")  # Activate all agents in random order\n",
    "\n",
    "\n",
    "\n",
    "\n",
    "# This is how you start the MAS:\n",
    "newmodel= MyModel()\n"
   ]
  },
  {
   "cell_type": "markdown",
   "metadata": {
    "id": "EN5r2qs71Frw"
   },
   "source": [
    "<div class=\"alert alert-block alert-info\">\n",
    "\n",
    " <b>Questions</b>\n",
    "    \n",
    "Based on the above example, implement a simple Mesa multi-agent system with `N` agents that all have some internal variable with an initial value of `0`. The agents' ids will range from`0` to `N-1`. The procedural loop of the agents performs two actions:\n",
    "\n",
    "- Increase the value of the internal value by `1`;\n",
    "- Print the agent's number and its current internal value.\n",
    "\n",
    "Running three steps of the system with `N=4` should produce the following output (with the agents in random a order):\n",
    "</div>\n",
    "\n"
   ]
  },
  {
   "cell_type": "markdown",
   "metadata": {
    "id": "NjUv_MT21Frx"
   },
   "source": [
    "Agent 2 has value 1\n",
    "\n",
    "Agent 3 has value 1\n",
    "\n",
    "Agent 1 has value 1\n",
    "\n",
    "Agent 0 has value 1\n",
    "\n",
    "Agent 1 has value 2\n",
    "\n",
    "Agent 2 has value 2\n",
    "\n",
    "Agent 3 has value 2\n",
    "\n",
    "Agent 0 has value 2\n",
    "\n",
    "Agent 0 has value 3\n",
    "\n",
    "Agent 1 has value 3\n",
    "\n",
    "Agent 3 has value 3\n",
    "\n",
    "Agent 2 has value 3"
   ]
  },
  {
   "cell_type": "code",
   "execution_count": 3,
   "metadata": {
    "id": "G11prAvW1Frz"
   },
   "outputs": [],
   "source": [
    "#Answer\n",
    "\n",
    "from mesa import Agent, Model\n",
    "\n",
    "\n",
    "class MyAgent(Agent):\n",
    "    def __init__(self, model):\n",
    "        super().__init__(model)\n",
    "        self.v = 0;\n",
    "\n",
    "    def increase_value(self): # the step of the agent\n",
    "        self.v=self.v+1;\n",
    "        print(\"Agent \"+str(self.unique_id)+\" has value \"+str(self.v))\n",
    "\n",
    "class MyModel(Model):\n",
    "    def __init__(self, N, seed=None):\n",
    "        super().__init__(seed=seed)\n",
    "        for i in range(N):\n",
    "            newagent = MyAgent(self)\n",
    "\n",
    "\n",
    "    def step(self):\n",
    "      self.agents.shuffle_do(\"increase_value\")\n",
    "\n",
    "\n"
   ]
  },
  {
   "cell_type": "code",
   "execution_count": 4,
   "metadata": {
    "colab": {
     "base_uri": "https://localhost:8080/"
    },
    "executionInfo": {
     "elapsed": 8,
     "status": "ok",
     "timestamp": 1740519738220,
     "user": {
      "displayName": "Wassila Ouerdane",
      "userId": "06311256887956564892"
     },
     "user_tz": -60
    },
    "id": "zZT9Or5dDrVz",
    "outputId": "7ab267ab-3d03-4a2b-92e4-b3fa65957a43"
   },
   "outputs": [
    {
     "name": "stdout",
     "output_type": "stream",
     "text": [
      "Agent 4 has value 1\n",
      "Agent 3 has value 1\n",
      "Agent 1 has value 1\n",
      "Agent 2 has value 1\n",
      "Agent 3 has value 2\n",
      "Agent 1 has value 2\n",
      "Agent 2 has value 2\n",
      "Agent 4 has value 2\n",
      "Agent 4 has value 3\n",
      "Agent 3 has value 3\n",
      "Agent 1 has value 3\n",
      "Agent 2 has value 3\n"
     ]
    }
   ],
   "source": [
    "#Running the Model\n",
    "starter_model = MyModel(4)\n",
    "for i in range(3):\n",
    "  starter_model.step()"
   ]
  },
  {
   "cell_type": "code",
   "execution_count": null,
   "metadata": {
    "id": "GBeANv7sDm-3"
   },
   "outputs": [],
   "source": [
    "# Challenge: Change the seed from None to a number like 42 and see the impact"
   ]
  },
  {
   "cell_type": "code",
   "execution_count": null,
   "metadata": {
    "id": "dKTBLLg6ECB0"
   },
   "outputs": [],
   "source": [
    "# Challenge: Change `shuffle_do` to just `do` and see the impact"
   ]
  },
  {
   "cell_type": "markdown",
   "metadata": {
    "id": "w5iwApqU1Fr3"
   },
   "source": [
    "### 2. The Money Example\n",
    "\n",
    "Our goal is to implement the model that explores the distribution of wealth under a trading population of agents.\n",
    "\n",
    "The assumption that govern this model are:\n",
    "\n",
    "1. There are some number of agents.\n",
    "2. All agents begin with 1 unit of money.\n",
    "3. At every step of the model, an agent gives 1 unit of money (if they\n",
    "   have it) to some other agent.\n",
    "\n",
    " We will see that this random interaction will create an inequality of wealth that follows a Boltzmann distribution (http://www.phys.ufl.edu/~meisel/Boltzmann.pdf).\n",
    "\n",
    "Thus,  we want the agent to adopt the following behaviour at each step of their execution (i.e. in their procedural loop):\n",
    "\n",
    "- Check their wealth;\n",
    "- If they have the money, give one unit of it away to another random agent.\n",
    "\n",
    "\n"
   ]
  },
  {
   "cell_type": "markdown",
   "metadata": {
    "id": "mdWNmxtW4CGx"
   },
   "source": [
    "-------\n",
    "Note\n",
    "To allow the agent to choose another agent at random, we shall use the `model.random` random-number generator. This works just like Python’s `random` module, but with a fixed seed set when the model is instantiated, that can be used to replicate a specific model run later. To access an agent's wealth, we can use the model's internal list of all the agents it is scheduled to activate.\n",
    "\n",
    "Note that agents also have a `self.random` attribute that refers to `self.model.random`.\n",
    "\n",
    "------"
   ]
  },
  {
   "cell_type": "code",
   "execution_count": null,
   "metadata": {
    "id": "u70R-jG21Fr5"
   },
   "outputs": [],
   "source": [
    "#Do not execute\n",
    "other_agent = self.random.choice(self.model.agents)\n",
    "other_agent.any_method()"
   ]
  },
  {
   "cell_type": "markdown",
   "metadata": {
    "id": "YCRehy211Fr6"
   },
   "source": [
    "<div class=\"alert alert-block alert-info\">\n",
    "\n",
    " <b>Questions</b>\n",
    "    \n",
    "- Write a class `MoneyAgent` that implements an agent with the above behaviour.\n",
    "- This code violates one of the principles of MAS we have discussed in this course. Which one?\n",
    "</div>"
   ]
  },
  {
   "cell_type": "code",
   "execution_count": 5,
   "metadata": {
    "id": "69BciqaM1Fr7"
   },
   "outputs": [],
   "source": [
    "#Answer\n",
    "\n",
    "from mesa import Agent, Model\n",
    "\n",
    "class MoneyAgent(Agent):\n",
    "    def __init__(self, model):\n",
    "        super().__init__(model)\n",
    "        self.wealth = 1\n",
    "\n",
    "    def exchange(self):\n",
    "        if self.wealth>0:\n",
    "            other_agent = self.random.choice(self.model.agents)\n",
    "            other_agent.wealth += 1\n",
    "            self.wealth -= 1"
   ]
  },
  {
   "cell_type": "markdown",
   "metadata": {
    "id": "nIVHTpxB1Fr8"
   },
   "source": [
    "<div class=\"alert alert-block alert-danger\">\n",
    "Answer: This code violates the encapsulation principle :\n",
    "one agent should not change another agent's internal variable.\n",
    "However, since we did not implement any communication mechanism for now,\n",
    "there is no other way to have this action performed. More to come on the next sessions of the course.\n",
    "</div>"
   ]
  },
  {
   "cell_type": "markdown",
   "metadata": {
    "id": "j2EbKx6S1Fr-"
   },
   "source": [
    "#### The Money MAS model"
   ]
  },
  {
   "cell_type": "markdown",
   "metadata": {
    "id": "2Aj2UUTv1Fr-"
   },
   "source": [
    "<div class=\"alert alert-block alert-info\">\n",
    "\n",
    " <b>Questions</b>\n",
    "\n",
    "Implement a `MoneyModel` class that creates `N` money-agents. Run some steps of the MAS and store the resulting value of `wealth` for each agent into a Python list. You can then display the result using the matplotlib library:\n",
    "    \n",
    " </div>"
   ]
  },
  {
   "cell_type": "code",
   "execution_count": 6,
   "metadata": {
    "id": "-B4bLV2V1Fr_"
   },
   "outputs": [],
   "source": [
    "#Answer\n",
    "\n",
    "\n",
    "from mesa import Agent, Model\n",
    "\n",
    "\n",
    "class MoneyAgent(Agent):\n",
    "    def __init__(self, model):\n",
    "        super().__init__(model)\n",
    "        self.wealth = 1\n",
    "\n",
    "    def exchange(self):\n",
    "        if self.wealth>0:\n",
    "            other_agent = self.random.choice(self.model.agents)\n",
    "            other_agent.wealth += 1\n",
    "            self.wealth -= 1\n",
    "\n",
    "class MoneyModel(Model):\n",
    "    def __init__(self, N, seed=None):\n",
    "        super().__init__(seed=seed)\n",
    "\n",
    "        self.num_agents = N\n",
    "\n",
    "\n",
    "        for i in range(self.num_agents):\n",
    "            a = MoneyAgent(self)\n",
    "\n",
    "\n",
    "    def step(self):\n",
    "        self.agents.shuffle_do(\"exchange\")\n",
    "\n",
    "    def get_all_agents_wealth(self):\n",
    "        return [a.wealth for a in self.agents]\n",
    "\n",
    "\n"
   ]
  },
  {
   "cell_type": "code",
   "execution_count": 7,
   "metadata": {
    "colab": {
     "base_uri": "https://localhost:8080/"
    },
    "executionInfo": {
     "elapsed": 32,
     "status": "ok",
     "timestamp": 1740520047611,
     "user": {
      "displayName": "Wassila Ouerdane",
      "userId": "06311256887956564892"
     },
     "user_tz": -60
    },
    "id": "7C-f2mNSE2a8",
    "outputId": "1b1bfd4d-c77e-4be0-e22d-fd7d0ce526ae"
   },
   "outputs": [
    {
     "name": "stdout",
     "output_type": "stream",
     "text": [
      "[0, 0, 2, 4, 2, 1, 1, 0, 0, 0]\n"
     ]
    }
   ],
   "source": [
    "# main code\n",
    "\n",
    "model = MoneyModel(10)  # 10 agents in our example\n",
    "for _ in range(20):\n",
    "    model.step()\n",
    "\n",
    "all_wealth = model.get_all_agents_wealth()\n",
    "\n",
    "print(all_wealth)\n"
   ]
  },
  {
   "cell_type": "code",
   "execution_count": 8,
   "metadata": {
    "colab": {
     "base_uri": "https://localhost:8080/",
     "height": 430
    },
    "executionInfo": {
     "elapsed": 196,
     "status": "ok",
     "timestamp": 1740520049710,
     "user": {
      "displayName": "Wassila Ouerdane",
      "userId": "06311256887956564892"
     },
     "user_tz": -60
    },
    "id": "iJJndKP_ZKaI",
    "outputId": "1b1f6c4f-2b47-4253-da90-114f5a3aabc6"
   },
   "outputs": [
    {
     "data": {
      "image/png": "[encoded data removed]",
      "text/plain": [
       "<Figure size 640x480 with 1 Axes>"
      ]
     },
     "metadata": {},
     "output_type": "display_data"
    }
   ],
   "source": [
    "import matplotlib.pyplot as plt\n",
    "\n",
    "plt.hist(all_wealth,bins=range(max(all_wealth)+1))\n",
    "plt.show()"
   ]
  },
  {
   "cell_type": "code",
   "execution_count": 9,
   "metadata": {
    "colab": {
     "base_uri": "https://localhost:8080/",
     "height": 472
    },
    "executionInfo": {
     "elapsed": 302,
     "status": "ok",
     "timestamp": 1740520053216,
     "user": {
      "displayName": "Wassila Ouerdane",
      "userId": "06311256887956564892"
     },
     "user_tz": -60
    },
    "id": "NjngQd37mWBk",
    "outputId": "2714e1fc-72c9-48be-a1ba-19b88f3cbcee"
   },
   "outputs": [
    {
     "name": "stderr",
     "output_type": "stream",
     "text": [
      "/Library/Frameworks/Python.framework/Versions/3.12/lib/python3.12/site-packages/seaborn/_oldcore.py:1119: FutureWarning: use_inf_as_na option is deprecated and will be removed in a future version. Convert inf values to NaN before operating instead.\n",
      "  with pd.option_context('mode.use_inf_as_na', True):\n"
     ]
    },
    {
     "data": {
      "image/png": "[encoded data removed]",
      "text/plain": [
       "<Figure size 640x480 with 1 Axes>"
      ]
     },
     "metadata": {},
     "output_type": "display_data"
    }
   ],
   "source": [
    "import seaborn as sns\n",
    "all_wealth = []\n",
    "# This runs the model 100 times, each model executing 10 steps.\n",
    "for j in range(100):\n",
    "    # Run the model\n",
    "    model = MoneyModel(10)\n",
    "    for i in range(10):\n",
    "        model.step()\n",
    "\n",
    "    # Store the results\n",
    "    for agent in model.agents:\n",
    "        all_wealth.append(agent.wealth)\n",
    "\n",
    "# Use seaborn\n",
    "g = sns.histplot(all_wealth, discrete=True)\n",
    "g.set(title=\"Wealth distribution\", xlabel=\"Wealth\", ylabel=\"Number of agents\");"
   ]
  },
  {
   "cell_type": "markdown",
   "metadata": {
    "id": "lwt8qcWb1FsB"
   },
   "source": [
    "### 3. Adding a spatial environment\n",
    "\n",
    "Many ABMs have a spatial element, with agents moving around and interacting with nearby neighbors. Mesa has several types of [spaces](https://mesa.readthedocs.io/latest/apis/space.html) from different types of grids to networks to an in development [cell_space](https://mesa.readthedocs.io/latest/apis/experimental.html#module-experimental.cell_space.__init__). Mesa grids are divided into cells, and agents can only be on a particular cell, like pieces on a chess board. Continuous space, in contrast, allows agents to have any arbitrary position. (Think of grids vs continuous space like the difference between integers and decimals).\n",
    "\n",
    "Both grids and continuous spaces are frequently [toroidal](https://en.wikipedia.org/wiki/Toroidal_graph), meaning that the edges wrap around, with cells on the right edge connected to those on the left edge, and the top to the bottom. This prevents some cells having fewer neighbors than others, or agents being able to go off the edge of the environment. You can envision a torous by thinking of donut.\n",
    "\n",
    "Mesa has two main types of grids: `SingleGrid` and `MultiGrid`. `SingleGrid` enforces at most one agent per cell; `MultiGrid` allows multiple agents to be in the same cell. We are going to use `MultiGrid` and then only exchange money with agents in the same cell.\n",
    "\n",
    "In our simple model, we will use a grid space in which agents walk at random. Instead of giving their unit of money to any random agent, they will give it to an agent on the same cell. We shall use the Mesa `MultiGrid` class that allows multiple agents to be in the same cell (as opposed to `SimpleGrid` which only allows one agent at a time in each cell). Its constructor receives `width` and `height` parameters, and a `boolean` as to whether the grid is toroidal. We can place agents on a grid with the grid’s `place_agent` method, which takes an agent and an `(x, y)` tuple of the coordinates to place the agent.\n",
    "\n",
    "We get a random integer within the width and height of the grid space and the use Mesa's multigrid `place_agent` function to place the agent in the specified grid location."
   ]
  },
  {
   "cell_type": "code",
   "execution_count": null,
   "metadata": {
    "id": "7MEPiaQd1FsC"
   },
   "outputs": [],
   "source": [
    "#Example do not execute\n",
    "\n",
    "from mesa.space import MultiGrid\n",
    "\n",
    "grid = MultiGrid(width, height, torus=True)\n",
    "\n",
    "grid.place_agent(agent, (x, y))"
   ]
  },
  {
   "cell_type": "markdown",
   "metadata": {
    "id": "4Ym59I4r1FsD"
   },
   "source": [
    "All these method should be invoked in the model, at the agents’ creation level.\n",
    "\n",
    "Each agent is now provided with a `self.pos` variable that indicates its position in the grid. Moving an agent in the space (i.e. changing its position’s value) is done with the `move_agent` method, which is typically invoked in the agent’s `step` method. It takes as parameter the agent and its new position."
   ]
  },
  {
   "cell_type": "code",
   "execution_count": null,
   "metadata": {
    "id": "6uTN_Mjz1FsE"
   },
   "outputs": [],
   "source": [
    "# This code is invoked from within the Agent class :\n",
    "# - self is the agent\n",
    "# - self.model is the agent model\n",
    "# - self.model.grid is the model's grid space\n",
    "# - new_position is a tuple\n",
    "\n",
    "self.model.grid.move_agent(self, new_position)"
   ]
  },
  {
   "cell_type": "markdown",
   "metadata": {
    "id": "x82leXZJ1FsF"
   },
   "source": [
    "Instead of computing the possible positions manually, you can use the `get_neighbrhood` method which returns all the neighbors of a given cell. This method can get two types of cell neighborhoods: *Moore* (including diagonals), and *Von Neumann* (only up/down/left/right). It also needs an argument as to whether to include the center cell itself as one of the neighbors."
   ]
  },
  {
   "cell_type": "code",
   "execution_count": null,
   "metadata": {
    "id": "bkVuNu-c1FsF"
   },
   "outputs": [],
   "source": [
    "#Example do not execute\n",
    "\"\"\"Move the agent to a random neighboring cell.\"\"\"\n",
    "        possible_steps = self.model.grid.get_neighborhood(\n",
    "            self.pos, moore=True, include_center=False\n",
    "        )\n",
    "        new_position = self.random.choice(possible_steps)\n",
    "        self.model.grid.move_agent(self, new_position)"
   ]
  },
  {
   "cell_type": "markdown",
   "metadata": {
    "id": "piRgsCQu1FsF"
   },
   "source": [
    "Last but not least, one can get the list of agents that occupy a given cell with:"
   ]
  },
  {
   "cell_type": "code",
   "execution_count": null,
   "metadata": {
    "id": "lnf1bMrW1FsG"
   },
   "outputs": [],
   "source": [
    "#Example do not execute\n",
    "\n",
    "#a random agent in the same cell.\n",
    "\n",
    "cellmates = self.model.grid.get_cell_list_contents([self.pos])\n",
    "\n",
    "# Remove self from potential recipients\n",
    "cellmates.pop(cellmates.index(self))\n",
    "\n",
    "#cellmates is a list of agents."
   ]
  },
  {
   "cell_type": "markdown",
   "metadata": {
    "id": "PGROQSH41FsG"
   },
   "source": [
    "<div class=\"alert alert-block alert-info\">\n",
    "\n",
    " <b>Questions</b>\n",
    "\n",
    "Modify the previous code (MoneyMAS model) so that :\n",
    "\n",
    "- The model receives a `width` and `height` as parameters to initiate a toroidal grid space;\n",
    "- All agents are positioned randomly in the space;\n",
    "- At each step, all agents move randomly and then exchange `wealth` with the agents that share their current cell.\n",
    "\n",
    " To make your code easier to read, we recommend that you write two methods in your `MoneyAgent` class:\n",
    "\n",
    "- The `move` method moves the agent to one of its neighbouring cells;\n",
    "- The `share` method modifies the wealth.\n",
    "    \n",
    " </div>"
   ]
  },
  {
   "cell_type": "code",
   "execution_count": 11,
   "metadata": {
    "id": "ejPaCyh71FsH"
   },
   "outputs": [],
   "source": [
    "#Answer\n",
    "\n",
    "from mesa import Agent, Model\n",
    "from mesa.space import MultiGrid\n",
    "\n",
    "class MoneyAgent(Agent):\n",
    "    def __init__(self, model):\n",
    "        super().__init__(model)\n",
    "        self.wealth = 1\n",
    "\n",
    "    def move(self):\n",
    "        \"\"\"Move the agent to a random neighboring cell.\"\"\"\n",
    "        possible_steps = self.model.grid.get_neighborhood(\n",
    "            self.pos, moore=True, include_center=False\n",
    "        )\n",
    "        new_position = self.random.choice(possible_steps)\n",
    "        self.model.grid.move_agent(self, new_position)\n",
    "\n",
    "    def give_money(self):\n",
    "        cellmates = self.model.grid.get_cell_list_contents([self.pos])\n",
    "        # Ensure agent is not giving money to itself\n",
    "        cellmates.pop(cellmates.index(self))\n",
    "        if len(cellmates) > 0:\n",
    "            other_agent = self.random.choice(cellmates)\n",
    "            other_agent.wealth += 1\n",
    "            self.wealth -= 1\n",
    "\n",
    "\n",
    "class MoneyModel(Model):\n",
    "    def __init__(self, N=100, width=10, height=10, seed=None):\n",
    "        \"\"\"Initialize the model.\n",
    "\n",
    "        Args:\n",
    "            n (int, optional): Number of agents. Defaults to 100.\n",
    "            width (int, optional): Grid width. Defaults to 10.\n",
    "            height (int, optional): Grid height. Defaults to 10.\n",
    "            seed (int, optional): Random seed. Defaults to None.\n",
    "        \"\"\"\n",
    "        super().__init__(seed=seed)\n",
    "        self.num_agents = N\n",
    "\n",
    "        self.grid = MultiGrid(width, height, torus=True)\n",
    "        for _ in range(self.num_agents):\n",
    "            agent = MoneyAgent(self)\n",
    "\n",
    "            # Add agent to random grid cell\n",
    "            x = self.random.randrange(self.grid.width)\n",
    "            y = self.random.randrange(self.grid.height)\n",
    "            self.grid.place_agent(agent, (x, y))\n",
    "\n",
    "        self.running = True\n",
    "\n",
    "    def step(self):\n",
    "        self.agents.shuffle_do(\"move\")\n",
    "        self.agents.do(\"give_money\")\n",
    "\n",
    "\n",
    "    def get_all_agents_wealth(self):\n",
    "        return [a.wealth for a in self.agents]\n",
    "\n",
    "\n",
    "\n"
   ]
  },
  {
   "cell_type": "code",
   "execution_count": 12,
   "metadata": {
    "colab": {
     "base_uri": "https://localhost:8080/",
     "height": 472
    },
    "executionInfo": {
     "elapsed": 389,
     "status": "ok",
     "timestamp": 1740519973519,
     "user": {
      "displayName": "Wassila Ouerdane",
      "userId": "06311256887956564892"
     },
     "user_tz": -60
    },
    "id": "sBpsYRWldhRj",
    "outputId": "de74301a-b34d-4d01-a2cd-ff3852a5d21a"
   },
   "outputs": [
    {
     "name": "stderr",
     "output_type": "stream",
     "text": [
      "/Library/Frameworks/Python.framework/Versions/3.12/lib/python3.12/site-packages/seaborn/_oldcore.py:1119: FutureWarning: use_inf_as_na option is deprecated and will be removed in a future version. Convert inf values to NaN before operating instead.\n",
      "  with pd.option_context('mode.use_inf_as_na', True):\n"
     ]
    },
    {
     "data": {
      "image/png": "[encoded data removed]",
      "text/plain": [
       "<Figure size 640x480 with 1 Axes>"
      ]
     },
     "metadata": {},
     "output_type": "display_data"
    }
   ],
   "source": [
    "\n",
    "model = MoneyModel(20, 10, 10)\n",
    "for _ in range(50):\n",
    "    model.step()\n",
    "\n",
    "\n",
    "agent_wealth = [a.wealth for a in model.agents]\n",
    "# Create a histogram with seaborn\n",
    "g = sns.histplot(agent_wealth, discrete=True)\n",
    "g.set(\n",
    "    title=\"Wealth distribution\", xlabel=\"Wealth\", ylabel=\"Number of agents\"\n",
    ");  # The semicolon is just to avoid printing the object representation\n",
    "\n"
   ]
  },
  {
   "cell_type": "code",
   "execution_count": null,
   "metadata": {
    "id": "u4WQcPikMA6d"
   },
   "outputs": [],
   "source": []
  },
  {
   "cell_type": "markdown",
   "metadata": {
    "id": "RxUmLsaq1FsI"
   },
   "source": [
    "#### Viewing the spatial environment\n",
    "\n",
    "\n",
    "Viewing the position of agents might be interesting in such a multi-agent system. We can do it quite easily with the `matplotlib` and `numpy` libraries. We create a `numpy` array of the same size as the grid, filled with zeros. Then we use the `coord_iter` method in the `grid` object, which lets us loop over every cell in the grid, giving us each cell’s coordinates and contents in turn."
   ]
  },
  {
   "cell_type": "code",
   "execution_count": 15,
   "metadata": {
    "id": "qnQucl_58ckP"
   },
   "outputs": [
    {
     "data": {
      "image/png": "[encoded data removed]",
      "text/plain": [
       "<Figure size 500x500 with 1 Axes>"
      ]
     },
     "metadata": {},
     "output_type": "display_data"
    }
   ],
   "source": [
    "import numpy as np\n",
    "agent_counts = np.zeros((model.grid.width, model.grid.height))\n",
    "for cell_content, (x, y) in model.grid.coord_iter():\n",
    "    agent_count = len(cell_content)\n",
    "    agent_counts[x][y] = agent_count\n",
    "# Plot using seaborn, with a visual size of 5x5\n",
    "g = sns.heatmap(agent_counts, cmap=\"viridis\", annot=True, cbar=False, square=True)\n",
    "g.figure.set_size_inches(5, 5)\n",
    "g.set(title=\"number of agents on each cell of the grid\");"
   ]
  },
  {
   "cell_type": "code",
   "execution_count": null,
   "metadata": {
    "id": "ibALuEcnMA6e"
   },
   "outputs": [],
   "source": []
  },
  {
   "cell_type": "code",
   "execution_count": null,
   "metadata": {
    "id": "aGB5BNhH8mEt"
   },
   "outputs": [],
   "source": [
    "# Challenge: Change the size of the grid\n",
    "# Challenge: Change from multigrid to grid (only one agent per cell)"
   ]
  }
 ],
 "metadata": {
  "colab": {
   "provenance": []
  },
  "kernelspec": {
   "display_name": "Python 3 (ipykernel)",
   "language": "python",
   "name": "python3"
  },
  "language_info": {
   "codemirror_mode": {
    "name": "ipython",
    "version": 3
   },
   "file_extension": ".py",
   "mimetype": "text/x-python",
   "name": "python",
   "nbconvert_exporter": "python",
   "pygments_lexer": "ipython3",
   "version": "3.12.8"
  }
 },
 "nbformat": 4,
 "nbformat_minor": 4
}
