{
 "cells": [
  {
   "cell_type": "markdown",
   "metadata": {
    "id": "box5qwG6q6js"
   },
   "source": [
    "<center><img src='https://drive.google.com/uc?export=view&id=1qJ8NqAZolTBQY7lN-deZ8xEsU3dlUiLz' width=200></center>\n",
    "\n",
    "\n",
    "<h6><center></center></h6>\n",
    "\n",
    "<h1>\n",
    "<hr style=\" border:none; height:3px;\">\n",
    "<center>Agent and Multi-Agent Systems </center>\n",
    "    <center> PW4 : Multi-Agent Based Simulation: Visualisation and DashBoard</center>\n",
    "<hr style=\" border:none; height:3px;\">\n",
    "</h1>"
   ]
  },
  {
   "cell_type": "markdown",
   "metadata": {
    "id": "BtRka5ORq6jz"
   },
   "source": [
    "*This version of the visualisation tutorial is updated for Mesa 3.1, and works with Mesa `3.1.0` and above.*\n",
    "\n",
    "\n",
    "### Adding visualization\n",
    "\n",
    "So far, we've built a model, run it, and analyzed some output afterwards. However, one of the advantages of agent-based models is that we can often watch them run step by step, potentially spotting unexpected patterns, behaviors or bugs, or developing new intuitions, hypotheses, or insights. Other times, watching a model run can explain it to an unfamiliar audience better than static explanations. Like many ABM frameworks, Mesa allows you to create an interactive visualization of the model. In this section we'll walk through creating a visualization using built-in components, and (for advanced users) how to create a new visualization element.\n",
    "\n",
    "First, a quick explanation of how Mesa's interactive visualization works. The visualization is done in a browser window, using the [Solara](https://solara.dev/) framework, a pure Python, React-style web framework. Running `solara run app.py` will launch a web server, which runs the model, and displays model detail at each step via the Matplotlib plotting library. Alternatively, you can execute everything inside a notebook environment and display it inline."
   ]
  },
  {
   "cell_type": "markdown",
   "metadata": {
    "id": "JFgp9VhZq6j0"
   },
   "source": [
    "#### Grid Visualization\n",
    "\n",
    "To start with, let's have a visualization where we can watch the agents moving around the grid. Let us use the same `MoneyModel` created previously\n"
   ]
  },
  {
   "cell_type": "markdown",
   "metadata": {
    "id": "cJmZGnxTq6j1"
   },
   "source": [
    "Mesa's grid visualizer works by looping over every cell in a grid, and generating a portrayal for every agent it finds. A portrayal is a dictionary (which can easily be turned into a JSON object) which tells Matplotlib the color and size of the scatterplot markers (each signifying an agent). The only thing we need to provide is a function which takes an agent, and returns a portrayal dictionary. Here's the simplest one: it'll draw each agent as a blue, filled circle, with a radius size of 50."
   ]
  },
  {
   "cell_type": "markdown",
   "metadata": {
    "id": "9cLXzcOpq6j1"
   },
   "source": [
    "## Part 1 - Basic Dashboard\n",
    "\n",
    "**Note:**  Due to the computational cost of running multiple dashboards it is recommended that at the end of each part you restart your kernel and then only run the the cells in that portion of the tutorial (e.g. Part 1). Each portion is entirely self contained."
   ]
  },
  {
   "cell_type": "code",
   "execution_count": null,
   "metadata": {
    "id": "rXNKxDL9q6j2"
   },
   "outputs": [],
   "source": [
    "import mesa\n",
    "print(f\"Mesa version: {mesa.__version__}\")\n",
    "\n",
    "from mesa.visualization import SolaraViz, make_plot_component, make_space_component\n",
    "from MoneyModel import MoneyModel\n"
   ]
  },
  {
   "cell_type": "code",
   "execution_count": null,
   "metadata": {
    "id": "PyXkP-3Iq6j3"
   },
   "outputs": [],
   "source": [
    "def agent_portrayal(agent):\n",
    "    return {\n",
    "        \"color\": \"tab:blue\",\n",
    "        \"size\": 50,\n",
    "    }"
   ]
  },
  {
   "cell_type": "markdown",
   "metadata": {
    "id": "aou9PvN2q6j4"
   },
   "source": [
    "In addition to the portrayal method, we instantiate the model parameters, some of which are modifiable by user inputs. In this case, the number of agents, N, is specified as a slider of integers."
   ]
  },
  {
   "cell_type": "code",
   "execution_count": null,
   "metadata": {
    "id": "qNb-nnalq6j4"
   },
   "outputs": [],
   "source": [
    "model_params = {\n",
    "    \"n\": {\n",
    "        \"type\": \"SliderInt\",\n",
    "        \"value\": 50,\n",
    "        \"label\": \"Number of agents:\",\n",
    "        \"min\": 10,\n",
    "        \"max\": 100,\n",
    "        \"step\": 1,\n",
    "    },\n",
    "    \"width\": 10,\n",
    "    \"height\": 10,\n",
    "}"
   ]
  },
  {
   "cell_type": "markdown",
   "metadata": {
    "id": "Dd4HW_ayq6j5"
   },
   "source": [
    "Next, we instantiate the visualization object which (by default) displays the grid containing the agents, and timeseries of values computed by the model's data collector. In this example, we specify the Gini coefficient.\n",
    "\n",
    "There are 3 buttons:\n",
    "- the step button, which advances the model by 1 step\n",
    "- the play button, which advances the model indefinitely until it is paused, or until `model.running` is False (you may specify the stopping condition)\n",
    "- the pause button, which pauses the model\n",
    "\n",
    "To reset the model, simply change the model parameter from the user input (e.g. the \"Number of agents\" slider)."
   ]
  },
  {
   "cell_type": "code",
   "execution_count": null,
   "metadata": {
    "id": "-XGfJShKq6j5"
   },
   "outputs": [],
   "source": [
    "# Create initial model instance\n",
    "money_model = MoneyModel(n=50, width=10, height=10) #keyword arguments\n",
    "\n",
    "SpaceGraph = make_space_component(agent_portrayal)\n",
    "GiniPlot = make_plot_component(\"Gini\")\n",
    "\n",
    "page = SolaraViz(\n",
    "    money_model,\n",
    "    components=[SpaceGraph, GiniPlot],\n",
    "    model_params=model_params,\n",
    "    name=\"Boltzmann Wealth Model\",\n",
    ")\n",
    "# This is required to render the visualization in the Jupyter notebook\n",
    "page"
   ]
  },
  {
   "cell_type": "markdown",
   "metadata": {
    "id": "T27UUzznq6j5"
   },
   "source": [
    "## Part 2 - Dynamic Agent Representation\n",
    "\n",
    "Due to the computational cost of running multiple dashboards it is recommended that at the end of each part you restart your kernel and then only run the import cell and the cells in that portion of the part of the tutorial (e.g. Part 2)\n",
    "\n",
    "\n",
    "In the visualization above, all we could see is the agents moving around -- but not how much money they had, or anything else of interest. Let's change it so that agents who are broke (wealth 0) are drawn in red, smaller. (TODO: Currently, we can't predict the drawing order of the circles, so a broke agent may be overshadowed by a wealthy agent. We should fix this by doing a hollow circle instead)\n",
    "In addition to size and color, an agent's shape can also be customized when using the default drawer. The allowed values for shapes can be found [here](https://matplotlib.org/stable/api/markers_api.html).\n",
    "\n",
    "To do this, we go back to our `agent_portrayal` code and add some code to change the portrayal based on the agent properties and launch the server again."
   ]
  },
  {
   "cell_type": "code",
   "execution_count": null,
   "metadata": {
    "id": "Mg-c_HZpq6j6"
   },
   "outputs": [],
   "source": [
    "import mesa\n",
    "print(f\"Mesa version: {mesa.__version__}\")\n",
    "\n",
    "from mesa.visualization import SolaraViz, make_plot_component, make_space_component\n",
    "\n"
   ]
  },
  {
   "cell_type": "code",
   "execution_count": null,
   "metadata": {
    "id": "Ltnk5ZNSq6j6"
   },
   "outputs": [],
   "source": [
    "def agent_portrayal(agent):\n",
    "    size = 10\n",
    "    color = \"tab:red\"\n",
    "    if agent.wealth > 0:\n",
    "        size = 50\n",
    "        color = \"tab:blue\"\n",
    "    return {\"size\": size, \"color\": color}\n",
    "\n",
    "model_params = {\n",
    "    \"n\": {\n",
    "        \"type\": \"SliderInt\",\n",
    "        \"value\": 50,\n",
    "        \"label\": \"Number of agents:\",\n",
    "        \"min\": 10,\n",
    "        \"max\": 100,\n",
    "        \"step\": 1,\n",
    "    },\n",
    "    \"width\": 10,\n",
    "    \"height\": 10,\n",
    "}"
   ]
  },
  {
   "cell_type": "code",
   "execution_count": null,
   "metadata": {
    "id": "UQC6AWA4q6j7"
   },
   "outputs": [],
   "source": [
    "# Create initial model instance\n",
    "money_model = MoneyModel(n=50, width=10, height=10)\n",
    "\n",
    "SpaceGraph = make_space_component(agent_portrayal)\n",
    "GiniPlot = make_plot_component(\"Gini\")\n",
    "\n",
    "page = SolaraViz(\n",
    "    money_model,\n",
    "    components=[SpaceGraph, GiniPlot],\n",
    "    model_params=model_params,\n",
    "    name=\"Boltzmann Wealth Model\",\n",
    ")\n",
    "# This is required to render the visualization in the Jupyter notebook\n",
    "page"
   ]
  },
  {
   "cell_type": "markdown",
   "metadata": {
    "id": "6_6I8NNBq6j7"
   },
   "source": [
    "## Part 3 - Custom Components\n",
    "\n",
    "Due to the computational cost of running multiple dashboards it is recommended that at the end of each part you restart your kernel and then only run the import cell and the cells in that portion of the part of the tutorial (e.g. Part 3)\n",
    "\n",
    "**Note:** This section is for users who have a basic familiarity with Python's Matplotlib plotting library.\n",
    "\n",
    "If the visualization elements provided by Mesa aren't enough for you, you can build your own and plug them into the model server.\n",
    "\n",
    "For this example, let's build a simple histogram visualization, which can count the number of agents with each value of wealth.\n",
    "\n",
    "**Note:** Due to the way solara works we need to trigger an update whenever the underlying model changes. For this you need to register an update counter with every component."
   ]
  },
  {
   "cell_type": "code",
   "execution_count": null,
   "metadata": {
    "id": "mufozp9Cq6j8"
   },
   "outputs": [],
   "source": [
    "import mesa\n",
    "print(f\"Mesa version: {mesa.__version__}\")\n",
    "import solara\n",
    "from matplotlib.figure import Figure\n",
    "\n",
    "from mesa.visualization.utils import update_counter\n",
    "from mesa.visualization import SolaraViz, make_plot_component, make_space_component\n",
    "\n"
   ]
  },
  {
   "cell_type": "code",
   "execution_count": null,
   "metadata": {
    "id": "xCMjIP3Nq6j8"
   },
   "outputs": [],
   "source": [
    "def agent_portrayal(agent):\n",
    "    size = 10\n",
    "    color = \"tab:red\"\n",
    "    if agent.wealth > 0:\n",
    "        size = 50\n",
    "        color = \"tab:blue\"\n",
    "    return {\"size\": size, \"color\": color}\n",
    "\n",
    "model_params = {\n",
    "    \"n\": {\n",
    "        \"type\": \"SliderInt\",\n",
    "        \"value\": 50,\n",
    "        \"label\": \"Number of agents:\",\n",
    "        \"min\": 10,\n",
    "        \"max\": 100,\n",
    "        \"step\": 1,\n",
    "    },\n",
    "    \"width\": 10,\n",
    "    \"height\": 10,\n",
    "}"
   ]
  },
  {
   "cell_type": "markdown",
   "metadata": {
    "id": "Nn0W0AFUq6j8"
   },
   "source": [
    "Next, we update our solara frontend to use this new component"
   ]
  },
  {
   "cell_type": "code",
   "execution_count": null,
   "metadata": {
    "id": "tjlr19tUq6j9"
   },
   "outputs": [],
   "source": [
    "@solara.component\n",
    "def Histogram(model):\n",
    "    update_counter.get() # This is required to update the counter\n",
    "    # Note: you must initialize a figure using this method instead of\n",
    "    # plt.figure(), for thread safety purpose\n",
    "    fig = Figure()\n",
    "    ax = fig.subplots()\n",
    "    wealth_vals = [agent.wealth for agent in model.agents]\n",
    "    # Note: you have to use Matplotlib's OOP API instead of plt.hist\n",
    "    # because plt.hist is not thread-safe.\n",
    "    ax.hist(wealth_vals, bins=10)\n",
    "    solara.FigureMatplotlib(fig)"
   ]
  },
  {
   "cell_type": "code",
   "execution_count": null,
   "metadata": {
    "id": "cEizAgdWq6j9"
   },
   "outputs": [],
   "source": [
    "# Create initial model instance\n",
    "money_model = MoneyModel(n=50, width=10, height=10)\n",
    "\n",
    "SpaceGraph = make_space_component(agent_portrayal)\n",
    "GiniPlot = make_plot_component(\"Gini\")"
   ]
  },
  {
   "cell_type": "code",
   "execution_count": null,
   "metadata": {
    "ExecuteTime": {
     "end_time": "2024-10-29T19:38:49.471838Z",
     "start_time": "2024-10-29T19:38:47.897295Z"
    },
    "colab": {
     "referenced_widgets": [
      "bc71b89ee5684038a194eee4c36f4a4c"
     ]
    },
    "id": "uew11j51q6j9",
    "outputId": "01e7b4d7-42da-40df-ea29-d7e3c35f4375"
   },
   "outputs": [
    {
     "data": {
      "application/vnd.jupyter.widget-view+json": {
       "model_id": "bc71b89ee5684038a194eee4c36f4a4c",
       "version_major": 2,
       "version_minor": 0
      },
      "text/html": [
       "Cannot show widget. You probably want to rerun the code cell above (<i>Click in the code cell, and press Shift+Enter <kbd>⇧</kbd>+<kbd>↩</kbd></i>)."
      ],
      "text/plain": [
       "Cannot show ipywidgets in text"
      ]
     },
     "metadata": {},
     "output_type": "display_data"
    }
   ],
   "source": [
    "page = SolaraViz(\n",
    "    money_model,\n",
    "    components=[SpaceGraph, GiniPlot, Histogram],\n",
    "    model_params=model_params,\n",
    "    name=\"Boltzmann Wealth Model\",\n",
    ")\n",
    "# This is required to render the visualization in the Jupyter notebook\n",
    "page"
   ]
  },
  {
   "cell_type": "markdown",
   "metadata": {
    "id": "JZq4UOifq6j_"
   },
   "source": [
    "You can even run the visuals independently by calling it with the model instance"
   ]
  },
  {
   "cell_type": "code",
   "execution_count": null,
   "metadata": {
    "ExecuteTime": {
     "end_time": "2024-10-29T19:38:49.505725Z",
     "start_time": "2024-10-29T19:38:49.472599Z"
    },
    "colab": {
     "referenced_widgets": [
      "0491f167a1434a92b78535078bd082a8"
     ]
    },
    "id": "B_DAGu8Nq6j_",
    "outputId": "9d619a0e-5906-40ab-d90f-e006541f3749"
   },
   "outputs": [
    {
     "data": {
      "application/vnd.jupyter.widget-view+json": {
       "model_id": "0491f167a1434a92b78535078bd082a8",
       "version_major": 2,
       "version_minor": 0
      },
      "text/html": [
       "Cannot show widget. You probably want to rerun the code cell above (<i>Click in the code cell, and press Shift+Enter <kbd>⇧</kbd>+<kbd>↩</kbd></i>)."
      ],
      "text/plain": [
       "Cannot show ipywidgets in text"
      ]
     },
     "metadata": {},
     "output_type": "display_data"
    }
   ],
   "source": [
    "Histogram(money_model)"
   ]
  },
  {
   "cell_type": "code",
   "execution_count": null,
   "metadata": {
    "id": "LZ-6jeO7rdrV"
   },
   "outputs": [],
   "source": []
  }
 ],
 "metadata": {
  "colab": {
   "provenance": []
  },
  "kernelspec": {
   "display_name": "Python 3 (ipykernel)",
   "language": "python",
   "name": "python3"
  },
  "language_info": {
   "codemirror_mode": {
    "name": "ipython",
    "version": 3
   },
   "file_extension": ".py",
   "mimetype": "text/x-python",
   "name": "python",
   "nbconvert_exporter": "python",
   "pygments_lexer": "ipython3",
   "version": "3.12.8"
  },
  "nbsphinx": {
   "execute": "never"
  }
 },
 "nbformat": 4,
 "nbformat_minor": 4
}
