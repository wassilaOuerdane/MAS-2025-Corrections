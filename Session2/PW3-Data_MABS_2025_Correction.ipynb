{
 "cells": [
  {
   "cell_type": "markdown",
   "metadata": {
    "id": "eFt_pndaIDVO"
   },
   "source": [
    "<center><img src='https://drive.google.com/uc?export=view&id=1qJ8NqAZolTBQY7lN-deZ8xEsU3dlUiLz' width=200></center>\n",
    "\n",
    "\n",
    "<h6><center></center></h6>\n",
    "\n",
    "<h1>\n",
    "<hr style=\" border:none; height:3px;\">\n",
    "<center>Agent and Multi-Agent Systems </center>\n",
    "    <center> PW3 : Multi-Agent Based Simulation: Data Analysis</center>\n",
    "<hr style=\" border:none; height:3px;\">\n",
    "</h1>"
   ]
  },
  {
   "cell_type": "markdown",
   "metadata": {
    "id": "knYFeFZPIDVV"
   },
   "source": [
    "As we have seen, simulation creates a digital environment that looks like an artificial laboratory where we can test hypotheses, prospective scenarios or simply the evolution of the system in the future.\n",
    "\n",
    "As with any laboratory experiment, it is necessary to be able to follow the evolution of the experiments: with Multi-Agent based Simulation, it is necessary to visualize the evolution of the simulation and to collect data.\n",
    "\n",
    "The visualization of the simulation is very important in the context of Multi-Agent based Simulation because the simple and localized rules that allow to reproduce complex and global behaviors of the system are also responsible of the emergence of many phenomena. You can learn more about the emergence capabilities of multi-agent systems at this [address](https://medium.com/scalian/dynamiques-locales-cons%C3%A9quences-globales-97a2ef44ba58)\n",
    "\n",
    "In what follows, we will present the two features of Mesa that make it possible to make **data collection** and **visualization**."
   ]
  },
  {
   "cell_type": "markdown",
   "metadata": {
    "id": "yX5TRkHpIDVW"
   },
   "source": [
    "## Part1: Tutorial - Visualizing Multi-Agent Based Simulation"
   ]
  },
  {
   "cell_type": "markdown",
   "metadata": {
    "id": "jBgGAD14IDVX"
   },
   "source": [
    "### 1. Collecting Data"
   ]
  },
  {
   "cell_type": "markdown",
   "metadata": {
    "id": "-4dMWHdUIDVX"
   },
   "source": [
    "Mesa provides a class which can handle data collection and storage at runtime, which avoids to manipulates tables or dictionaries manually in the model. All this is done via the `DataCollector` class:"
   ]
  },
  {
   "cell_type": "code",
   "execution_count": 8,
   "metadata": {
    "colab": {
     "base_uri": "https://localhost:8080/"
    },
    "executionInfo": {
     "elapsed": 12464,
     "status": "ok",
     "timestamp": 1740644346848,
     "user": {
      "displayName": "Wassila Ouerdane",
      "userId": "06311256887956564892"
     },
     "user_tz": -60
    },
    "id": "oPRty73gfAte",
    "outputId": "03ac530b-46a8-4628-9f60-25d4f0cde2fd"
   },
   "outputs": [
    {
     "name": "stdout",
     "output_type": "stream",
     "text": [
      "Requirement already satisfied: mesa in /Library/Frameworks/Python.framework/Versions/3.12/lib/python3.12/site-packages (from -r requirements.txt (line 1)) (3.1.0)\n",
      "Requirement already satisfied: numpy in /Library/Frameworks/Python.framework/Versions/3.12/lib/python3.12/site-packages (from -r requirements.txt (line 2)) (1.26.4)\n",
      "Requirement already satisfied: seaborn in /Library/Frameworks/Python.framework/Versions/3.12/lib/python3.12/site-packages (from -r requirements.txt (line 3)) (0.12.2)\n",
      "Requirement already satisfied: matplotlib in /Library/Frameworks/Python.framework/Versions/3.12/lib/python3.12/site-packages (from -r requirements.txt (line 4)) (3.10.0)\n",
      "Requirement already satisfied: pandas in /Library/Frameworks/Python.framework/Versions/3.12/lib/python3.12/site-packages (from mesa->-r requirements.txt (line 1)) (2.2.3)\n",
      "Requirement already satisfied: tqdm in /Library/Frameworks/Python.framework/Versions/3.12/lib/python3.12/site-packages (from mesa->-r requirements.txt (line 1)) (4.67.1)\n",
      "Requirement already satisfied: contourpy>=1.0.1 in /Library/Frameworks/Python.framework/Versions/3.12/lib/python3.12/site-packages (from matplotlib->-r requirements.txt (line 4)) (1.3.1)\n",
      "Requirement already satisfied: cycler>=0.10 in /Library/Frameworks/Python.framework/Versions/3.12/lib/python3.12/site-packages (from matplotlib->-r requirements.txt (line 4)) (0.12.1)\n",
      "Requirement already satisfied: fonttools>=4.22.0 in /Library/Frameworks/Python.framework/Versions/3.12/lib/python3.12/site-packages (from matplotlib->-r requirements.txt (line 4)) (4.55.3)\n",
      "Requirement already satisfied: kiwisolver>=1.3.1 in /Library/Frameworks/Python.framework/Versions/3.12/lib/python3.12/site-packages (from matplotlib->-r requirements.txt (line 4)) (1.4.8)\n",
      "Requirement already satisfied: packaging>=20.0 in /Library/Frameworks/Python.framework/Versions/3.12/lib/python3.12/site-packages (from matplotlib->-r requirements.txt (line 4)) (24.2)\n",
      "Requirement already satisfied: pillow>=8 in /Library/Frameworks/Python.framework/Versions/3.12/lib/python3.12/site-packages (from matplotlib->-r requirements.txt (line 4)) (11.1.0)\n",
      "Requirement already satisfied: pyparsing>=2.3.1 in /Library/Frameworks/Python.framework/Versions/3.12/lib/python3.12/site-packages (from matplotlib->-r requirements.txt (line 4)) (3.2.1)\n",
      "Requirement already satisfied: python-dateutil>=2.7 in /Library/Frameworks/Python.framework/Versions/3.12/lib/python3.12/site-packages (from matplotlib->-r requirements.txt (line 4)) (2.9.0.post0)\n",
      "Requirement already satisfied: pytz>=2020.1 in /Library/Frameworks/Python.framework/Versions/3.12/lib/python3.12/site-packages (from pandas->mesa->-r requirements.txt (line 1)) (2025.1)\n",
      "Requirement already satisfied: tzdata>=2022.7 in /Library/Frameworks/Python.framework/Versions/3.12/lib/python3.12/site-packages (from pandas->mesa->-r requirements.txt (line 1)) (2025.1)\n",
      "Requirement already satisfied: six>=1.5 in /Library/Frameworks/Python.framework/Versions/3.12/lib/python3.12/site-packages (from python-dateutil>=2.7->matplotlib->-r requirements.txt (line 4)) (1.17.0)\n"
     ]
    }
   ],
   "source": [
    "!pip install -r requirements.txt"
   ]
  },
  {
   "cell_type": "code",
   "execution_count": 9,
   "metadata": {
    "colab": {
     "base_uri": "https://localhost:8080/"
    },
    "executionInfo": {
     "elapsed": 1765,
     "status": "ok",
     "timestamp": 1740644378641,
     "user": {
      "displayName": "Wassila Ouerdane",
      "userId": "06311256887956564892"
     },
     "user_tz": -60
    },
    "id": "S0-6YIJnI9Nd",
    "outputId": "fec0c6c9-5e25-433a-c603-870b5b875073"
   },
   "outputs": [
    {
     "name": "stdout",
     "output_type": "stream",
     "text": [
      "Mesa version: 3.1.0\n"
     ]
    }
   ],
   "source": [
    "import mesa\n",
    "print(f\"Mesa version: {mesa.__version__}\")"
   ]
  },
  {
   "cell_type": "code",
   "execution_count": 10,
   "metadata": {
    "id": "oBgKLQCUIDVY"
   },
   "outputs": [],
   "source": [
    "# To execute\n",
    "from mesa.datacollection import DataCollector"
   ]
  },
  {
   "cell_type": "markdown",
   "metadata": {
    "id": "O8PUfScGIDVc"
   },
   "source": [
    "The data collector stores three categories of data: *model-level* variables, *agent-level* variables, and *tables* (which are a catch-all for everything else). Model- and agent-level variables are added to the data collector along with a function for collecting them. Model-level collection functions take a model object as an input, while agent-level collection functions take an agent object as an input. Both then return a value computed from the model or each agent at their current state.\n",
    "\n",
    "When the data collector’s `collect` method is called, with a model object as its argument, it applies each model-level collection function to the model, and stores the results in a dictionary, associating the current value with the current step of the model. Similarly, the method applies each agent-level collection function to each agent currently in the schedule, associating the resulting value with the step of the model, and the agent’s `unique_id`."
   ]
  },
  {
   "cell_type": "markdown",
   "metadata": {
    "id": "wu1l1WNVIDVd"
   },
   "source": [
    "Let’s start from the previous example: the Money Model."
   ]
  },
  {
   "cell_type": "markdown",
   "metadata": {
    "id": "yTjS86-xIDVe"
   },
   "source": [
    "#### Agent-level"
   ]
  },
  {
   "cell_type": "markdown",
   "metadata": {
    "id": "2SI2dKK1IDVf"
   },
   "source": [
    "First, let us consider an agent-level variable. Imagine we want to store the value of each agent’s wealth at each time step. We must add in the `MoneyModel` constructor a `DataCollector` with the parameter `agent_reporters` set to a dictionary that associates the label of the data and the name of the collected variable:"
   ]
  },
  {
   "cell_type": "code",
   "execution_count": null,
   "metadata": {},
   "outputs": [],
   "source": [
    "#Do not execute\n",
    "self.datacollector = DataCollector(agent_reporters={\"Wealth\": \"wealth\"})"
   ]
  },
  {
   "cell_type": "markdown",
   "metadata": {
    "id": "ifW0_sUKIDVg"
   },
   "source": [
    "We now simply tell the model to collect data with"
   ]
  },
  {
   "cell_type": "code",
   "execution_count": null,
   "metadata": {
    "id": "nkU8IOOAIDVh"
   },
   "outputs": [],
   "source": [
    "#Do not execute\n",
    "self.datacollector.collect(self)"
   ]
  },
  {
   "cell_type": "markdown",
   "metadata": {
    "id": "HtnKBNQfIDVh"
   },
   "source": [
    "Once the execution is finished, we can retrieve the data with:"
   ]
  },
  {
   "cell_type": "code",
   "execution_count": null,
   "metadata": {
    "id": "wbzpHrjKIDVj"
   },
   "outputs": [],
   "source": [
    "#Do not execute\n",
    "model.datacollector.get_agent_vars_dataframe()"
   ]
  },
  {
   "cell_type": "markdown",
   "metadata": {
    "id": "vNna47sVIDVk"
   },
   "source": [
    "The result is a Pandas `DataFrame`. See the [Pandas documentation](https://pandas.pydata.org/pandas-docs/stable/reference/frame.html) for more information. You might also want to refer to the [user guide](https://pandas.pydata.org/pandas-docs/stable/user_guide/visualization.html) for information about Pandas’ data visualization."
   ]
  },
  {
   "cell_type": "markdown",
   "metadata": {
    "id": "wu_CEcB4IDVk"
   },
   "source": [
    "<div class=\"alert alert-block alert-info\">\n",
    "\n",
    " <b>Questions</b>\n",
    "    \n",
    "- Update the following code of MoneyModel by adding the data collector\n",
    "\n",
    "- visualize the health value of one or several agents.\n",
    "</div>"
   ]
  },
  {
   "cell_type": "code",
   "execution_count": 12,
   "metadata": {
    "executionInfo": {
     "elapsed": 32,
     "status": "ok",
     "timestamp": 1740644382464,
     "user": {
      "displayName": "Wassila Ouerdane",
      "userId": "06311256887956564892"
     },
     "user_tz": -60
    },
    "id": "1A2vS4pwItqB"
   },
   "outputs": [],
   "source": [
    "#The original Monyemodel without Datacollector\n",
    "\n",
    "from mesa import Agent, Model\n",
    "from mesa.space import MultiGrid\n",
    "\n",
    "class MoneyAgent(Agent):\n",
    "    def __init__(self, model):\n",
    "        super().__init__(model)\n",
    "        self.wealth = 1\n",
    "\n",
    "    def move(self):\n",
    "        \"\"\"Move the agent to a random neighboring cell.\"\"\"\n",
    "        possible_steps = self.model.grid.get_neighborhood(\n",
    "            self.pos, moore=True, include_center=False\n",
    "        )\n",
    "        new_position = self.random.choice(possible_steps)\n",
    "        self.model.grid.move_agent(self, new_position)\n",
    "\n",
    "    def give_money(self):\n",
    "        cellmates = self.model.grid.get_cell_list_contents([self.pos])\n",
    "        # Ensure agent is not giving money to itself\n",
    "        cellmates.pop(cellmates.index(self))\n",
    "        if len(cellmates) > 0:\n",
    "            other = self.random.choice(cellmates)\n",
    "            other.wealth += 1\n",
    "            self.wealth -= 1\n",
    "\n",
    "    def step_agent(self):\n",
    "        self.move()\n",
    "        if self.wealth>0:\n",
    "            self.give_money()\n",
    "\n",
    "\n",
    "class MoneyModel(Model):\n",
    "    def __init__(self, N=100, width=10, height=10, seed=None):\n",
    "        \"\"\"Initialize the model.\n",
    "\n",
    "        Args:\n",
    "            n (int, optional): Number of agents. Defaults to 100.\n",
    "            width (int, optional): Grid width. Defaults to 10.\n",
    "            height (int, optional): Grid height. Defaults to 10.\n",
    "            seed (int, optional): Random seed. Defaults to None.\n",
    "        \"\"\"\n",
    "        super().__init__(seed=seed)\n",
    "        self.num_agents = N\n",
    "\n",
    "        self.grid = MultiGrid(width, height, torus=True)\n",
    "        for _ in range(self.num_agents):\n",
    "            agent = MoneyAgent(self)\n",
    "\n",
    "            # Add agent to random grid cell\n",
    "            x = self.random.randrange(self.grid.width)\n",
    "            y = self.random.randrange(self.grid.height)\n",
    "            self.grid.place_agent(agent, (x, y))\n",
    "\n",
    "        self.running = True\n",
    "\n",
    "    def step(self):\n",
    "        self.agents.shuffle_do(\"step_agent\")\n",
    "\n",
    "\n",
    "    def get_all_agents_wealth(self):\n",
    "        return [a.wealth for a in self.agents]\n",
    "\n"
   ]
  },
  {
   "cell_type": "code",
   "execution_count": 13,
   "metadata": {
    "colab": {
     "base_uri": "https://localhost:8080/"
    },
    "executionInfo": {
     "elapsed": 10,
     "status": "ok",
     "timestamp": 1740644385976,
     "user": {
      "displayName": "Wassila Ouerdane",
      "userId": "06311256887956564892"
     },
     "user_tz": -60
    },
    "id": "_97hMfoMFrQQ",
    "outputId": "c68f7c83-b900-4de0-89d3-227d820f373f"
   },
   "outputs": [
    {
     "name": "stdout",
     "output_type": "stream",
     "text": [
      "[0, 0, 1, 0, 0, 0, 2, 0, 2, 2, 1, 0, 2, 2, 0, 0, 0, 0, 1, 0, 2, 1, 6, 0, 3, 1, 1, 3, 0, 0]\n"
     ]
    }
   ],
   "source": [
    "model = MoneyModel(30, 10, 10)\n",
    "for _ in range(100):\n",
    "    model.step()\n",
    "print(model.get_all_agents_wealth())"
   ]
  },
  {
   "cell_type": "code",
   "execution_count": 14,
   "metadata": {
    "executionInfo": {
     "elapsed": 4,
     "status": "ok",
     "timestamp": 1740644387250,
     "user": {
      "displayName": "Wassila Ouerdane",
      "userId": "06311256887956564892"
     },
     "user_tz": -60
    },
    "id": "sqHmXH_JIDVm"
   },
   "outputs": [],
   "source": [
    "#Answer: Money Model updated with datacollector\n",
    "\n",
    "from mesa.datacollection import DataCollector\n",
    "\n",
    "from mesa import Agent, Model\n",
    "\n",
    "from mesa.space import MultiGrid\n",
    "\n",
    "class MoneyAgent(Agent):\n",
    "    \"\"\" An agent with fixed initial wealth.\"\"\"\n",
    "    def __init__(self,model):\n",
    "        super().__init__(model)\n",
    "        self.wealth = 1\n",
    "\n",
    "    def move(self):\n",
    "        \"\"\"Move the agent to a random neighboring cell.\"\"\"\n",
    "        possible_steps = self.model.grid.get_neighborhood(\n",
    "            self.pos, moore=True, include_center=False\n",
    "        )\n",
    "        new_position = self.random.choice(possible_steps)\n",
    "        self.model.grid.move_agent(self, new_position)\n",
    "\n",
    "    def give_money(self):\n",
    "        cellmates = self.model.grid.get_cell_list_contents([self.pos])\n",
    "        # Ensure agent is not giving money to itself\n",
    "        cellmates.pop(cellmates.index(self))\n",
    "        if len(cellmates) > 0:\n",
    "            other = self.random.choice(cellmates)\n",
    "            other.wealth += 1\n",
    "            self.wealth -= 1\n",
    "\n",
    "    def step_agent(self):\n",
    "        self.move()\n",
    "        if self.wealth>0:\n",
    "            self.give_money()\n",
    "\n",
    "\n",
    "class MoneyModel(Model):\n",
    "    \"\"\"A model with some number of agents.\"\"\"\n",
    "    def __init__(self, N=100, width=10, height=10, seed=None):\n",
    "        super().__init__(seed=seed)\n",
    "        self.num_agents = N\n",
    "        self.grid = MultiGrid(width, height, torus=True)\n",
    "         # Adding datacollector\n",
    "\n",
    "        self.datacollector = DataCollector(\n",
    "            agent_reporters={\"Wealth\": \"wealth\"}\n",
    "        )\n",
    "\n",
    "\n",
    "        for _ in range(self.num_agents):\n",
    "            agent = MoneyAgent(self)\n",
    "\n",
    "            # Add agent to random grid cell\n",
    "            x = self.random.randrange(self.grid.width)\n",
    "            y = self.random.randrange(self.grid.height)\n",
    "            self.grid.place_agent(agent, (x, y))\n",
    "\n",
    "\n",
    "        self.running = True\n",
    "\n",
    "    def step(self):\n",
    "        self.datacollector.collect(self)\n",
    "        self.agents.shuffle_do(\"step_agent\")\n",
    "\n",
    "\n",
    "    def get_all_agents_wealth(self):\n",
    "        return [a.wealth for a in self.agents]\n",
    "\n"
   ]
  },
  {
   "cell_type": "code",
   "execution_count": 15,
   "metadata": {
    "colab": {
     "base_uri": "https://localhost:8080/"
    },
    "executionInfo": {
     "elapsed": 72,
     "status": "ok",
     "timestamp": 1740644394166,
     "user": {
      "displayName": "Wassila Ouerdane",
      "userId": "06311256887956564892"
     },
     "user_tz": -60
    },
    "id": "MzEPsFiEF4wq",
    "outputId": "520aa46b-bb14-4e5d-fb59-766c940feaea"
   },
   "outputs": [
    {
     "name": "stdout",
     "output_type": "stream",
     "text": [
      "[5, 1, 0, 3, 1, 0, 0, 0, 0, 0, 1, 0, 0, 0, 0, 0, 0, 1, 1, 2, 2, 1, 0, 0, 3, 1, 0, 0, 0, 3, 0, 3, 0, 0, 0, 0, 3, 0, 0, 2, 0, 1, 2, 0, 4, 0, 0, 2, 0, 2, 0, 1, 2, 6, 0, 2, 1, 6, 1, 1, 2, 2, 1, 0, 0, 2, 0, 1, 0, 0, 2, 4, 0, 0, 4, 0, 0, 0, 1, 2, 0, 3, 0, 1, 0, 0, 0, 1, 0, 1, 4, 0, 0, 0, 0, 3, 1, 0, 1, 0]\n"
     ]
    }
   ],
   "source": [
    "model = MoneyModel(100, 10, 10)\n",
    "for _ in range(100):\n",
    "    model.step()\n",
    "\n",
    "print(model.get_all_agents_wealth())"
   ]
  },
  {
   "cell_type": "code",
   "execution_count": 16,
   "metadata": {
    "colab": {
     "base_uri": "https://localhost:8080/",
     "height": 235
    },
    "executionInfo": {
     "elapsed": 64,
     "status": "ok",
     "timestamp": 1740644397035,
     "user": {
      "displayName": "Wassila Ouerdane",
      "userId": "06311256887956564892"
     },
     "user_tz": -60
    },
    "id": "sAPDMq5AIDVn",
    "outputId": "210e5e8a-07a8-4513-da05-4b137163795c"
   },
   "outputs": [
    {
     "data": {
      "text/html": [
       "<div>\n",
       "<style scoped>\n",
       "    .dataframe tbody tr th:only-of-type {\n",
       "        vertical-align: middle;\n",
       "    }\n",
       "\n",
       "    .dataframe tbody tr th {\n",
       "        vertical-align: top;\n",
       "    }\n",
       "\n",
       "    .dataframe thead th {\n",
       "        text-align: right;\n",
       "    }\n",
       "</style>\n",
       "<table border=\"1\" class=\"dataframe\">\n",
       "  <thead>\n",
       "    <tr style=\"text-align: right;\">\n",
       "      <th></th>\n",
       "      <th></th>\n",
       "      <th>Wealth</th>\n",
       "    </tr>\n",
       "    <tr>\n",
       "      <th>Step</th>\n",
       "      <th>AgentID</th>\n",
       "      <th></th>\n",
       "    </tr>\n",
       "  </thead>\n",
       "  <tbody>\n",
       "    <tr>\n",
       "      <th rowspan=\"5\" valign=\"top\">1</th>\n",
       "      <th>1</th>\n",
       "      <td>1</td>\n",
       "    </tr>\n",
       "    <tr>\n",
       "      <th>2</th>\n",
       "      <td>1</td>\n",
       "    </tr>\n",
       "    <tr>\n",
       "      <th>3</th>\n",
       "      <td>1</td>\n",
       "    </tr>\n",
       "    <tr>\n",
       "      <th>4</th>\n",
       "      <td>1</td>\n",
       "    </tr>\n",
       "    <tr>\n",
       "      <th>5</th>\n",
       "      <td>1</td>\n",
       "    </tr>\n",
       "  </tbody>\n",
       "</table>\n",
       "</div>"
      ],
      "text/plain": [
       "              Wealth\n",
       "Step AgentID        \n",
       "1    1             1\n",
       "     2             1\n",
       "     3             1\n",
       "     4             1\n",
       "     5             1"
      ]
     },
     "execution_count": 16,
     "metadata": {},
     "output_type": "execute_result"
    }
   ],
   "source": [
    "#we can get the agent-wealth data:\n",
    "\n",
    "agent_wealth = model.datacollector.get_agent_vars_dataframe()\n",
    "agent_wealth.head()"
   ]
  },
  {
   "cell_type": "code",
   "execution_count": null,
   "metadata": {},
   "outputs": [],
   "source": [
    "import seaborn as sns\n",
    "# TO get a histogram of agent wealth at the model’s end:\n",
    "\n",
    "last_step = agent_wealth.index.get_level_values(\"Step\").max()\n",
    "end_wealth = agent_wealth.xs(last_step, level=\"Step\")[\"Wealth\"]\n",
    "# Create a histogram of wealth at the last step\n",
    "g = sns.histplot(end_wealth, discrete=True)\n",
    "g.set(\n",
    "    title=\"Distribution of wealth at the end of simulation\",\n",
    "    xlabel=\"Wealth\",\n",
    "    ylabel=\"number of agents\",\n",
    ");"
   ]
  },
  {
   "cell_type": "markdown",
   "metadata": {
    "id": "fKR-nHuuIDVq"
   },
   "source": [
    "#### Model-level"
   ]
  },
  {
   "cell_type": "markdown",
   "metadata": {
    "id": "gkSz-YTYIDVr"
   },
   "source": [
    "It is also possible to use functions in the collector. For example, assume we want to collect the value of the Gini Coefficient, a measure of wealth inequality, at each time step on the model. Let’s define the `compute_gini` method:"
   ]
  },
  {
   "cell_type": "code",
   "execution_count": null,
   "metadata": {
    "executionInfo": {
     "elapsed": 2,
     "status": "ok",
     "timestamp": 1740644398631,
     "user": {
      "displayName": "Wassila Ouerdane",
      "userId": "06311256887956564892"
     },
     "user_tz": -60
    },
    "id": "Hi5x4unsIDVs"
   },
   "outputs": [],
   "source": [
    "#Do not execute\n",
    "def compute_gini(model):\n",
    "    agent_wealths = [agent.wealth for agent in model.agents]\n",
    "    x = sorted(agent_wealths)\n",
    "    n = model.num_agents\n",
    "    B = sum(xi * (n - i) for i, xi in enumerate(x)) / (n * sum(x))\n",
    "    return 1 + (1 / n) - 2 * B"
   ]
  },
  {
   "cell_type": "markdown",
   "metadata": {
    "id": "m6uQmpw2IDVs"
   },
   "source": [
    "Now, we can collect this data at runtime using the `DataCollector` with the parameter `model_reporters` set to a dictionary that associates the label of the data and the above function:"
   ]
  },
  {
   "cell_type": "code",
   "execution_count": null,
   "metadata": {
    "id": "wtmwlGpfIDVt"
   },
   "outputs": [],
   "source": [
    "#Do not execute\n",
    "self.datacollector = DataCollector(\n",
    "    model_reporters={\"Gini\": compute_gini},\n",
    "    agent_reporters={\"Wealth\": \"wealth\"})\n",
    "\n",
    "#Note that we still collect the agents’ wealth values."
   ]
  },
  {
   "cell_type": "markdown",
   "metadata": {
    "id": "HMviYEGsIDVu"
   },
   "source": [
    "<div class=\"alert alert-block alert-info\">\n",
    "\n",
    " <b>Questions</b>\n",
    "    \n",
    "Visualize the evolution of the Gini Coefficient in the simulation. What do you observe ?\n",
    "\n",
    "</div>"
   ]
  },
  {
   "cell_type": "code",
   "execution_count": null,
   "metadata": {
    "executionInfo": {
     "elapsed": 3,
     "status": "ok",
     "timestamp": 1740644402473,
     "user": {
      "displayName": "Wassila Ouerdane",
      "userId": "06311256887956564892"
     },
     "user_tz": -60
    },
    "id": "hMVt5LUaIDVu"
   },
   "outputs": [],
   "source": [
    "\n",
    "from mesa.datacollection import DataCollector\n",
    "\n",
    "from mesa import Agent, Model\n",
    "\n",
    "from mesa.space import MultiGrid\n",
    "\n",
    "\n",
    "def compute_gini(model):\n",
    "    agent_wealths = [agent.wealth for agent in model.agents]\n",
    "    x = sorted(agent_wealths)\n",
    "    N = model.num_agents\n",
    "    B = sum( xi * (N-i) for i,xi in enumerate(x) ) / (N*sum(x))\n",
    "    return (1 + (1/N) - 2*B)\n",
    "\n",
    "\n",
    "class MoneyAgent2(Agent):\n",
    "    \"\"\" An agent with fixed initial wealth.\"\"\"\n",
    "    def __init__(self,model):\n",
    "        super().__init__(model)\n",
    "        self.wealth = 1\n",
    "\n",
    "    def move(self):\n",
    "        \"\"\"Move the agent to a random neighboring cell.\"\"\"\n",
    "        possible_steps = self.model.grid.get_neighborhood(\n",
    "            self.pos, moore=True, include_center=False\n",
    "        )\n",
    "        new_position = self.random.choice(possible_steps)\n",
    "        self.model.grid.move_agent(self, new_position)\n",
    "\n",
    "    def give_money(self):\n",
    "        cellmates = self.model.grid.get_cell_list_contents([self.pos])\n",
    "        # Ensure agent is not giving money to itself\n",
    "        cellmates.pop(cellmates.index(self))\n",
    "        if len(cellmates) > 0:\n",
    "            other = self.random.choice(cellmates)\n",
    "            other.wealth += 1\n",
    "            self.wealth -= 1\n",
    "\n",
    "    def step_agent(self):\n",
    "        self.move()\n",
    "        if self.wealth>0:\n",
    "            self.give_money()\n",
    "\n",
    "\n",
    "class MoneyModel2(Model):\n",
    "    \"\"\"A model with some number of agents.\"\"\"\n",
    "    def __init__(self, N, width=10, height=10, seed=None):\n",
    "        super().__init__(seed=seed)\n",
    "        self.num_agents = N\n",
    "        self.grid = MultiGrid(width, height, torus=True)\n",
    "        # Adding datacollector\n",
    "        self.datacollector = DataCollector(\n",
    "            model_reporters={\"Gini\": compute_gini}, agent_reporters={\"Wealth\": \"wealth\"}\n",
    "        )\n",
    "\n",
    "        for _ in range(self.num_agents):\n",
    "            agent = MoneyAgent2(self)\n",
    "\n",
    "            # Add agent to random grid cell\n",
    "            x = self.random.randrange(self.grid.width)\n",
    "            y = self.random.randrange(self.grid.height)\n",
    "            self.grid.place_agent(agent, (x, y))\n",
    "\n",
    "\n",
    "        self.running = True\n",
    "\n",
    "    def step(self):\n",
    "        self.datacollector.collect(self)\n",
    "        self.agents.shuffle_do(\"step_agent\")\n",
    "\n",
    "\n",
    "\n",
    "# le gini ne marche pas !! !"
   ]
  },
  {
   "cell_type": "code",
   "execution_count": null,
   "metadata": {
    "executionInfo": {
     "elapsed": 115,
     "status": "ok",
     "timestamp": 1740644406674,
     "user": {
      "displayName": "Wassila Ouerdane",
      "userId": "06311256887956564892"
     },
     "user_tz": -60
    },
    "id": "PsKN9L7HJLnV"
   },
   "outputs": [],
   "source": [
    "model2 = MoneyModel2(100, 10, 10)\n",
    "for _ in range(100):\n",
    "    model2.step()"
   ]
  },
  {
   "cell_type": "code",
   "execution_count": null,
   "metadata": {
    "colab": {
     "base_uri": "https://localhost:8080/",
     "height": 452
    },
    "executionInfo": {
     "elapsed": 2795,
     "status": "ok",
     "timestamp": 1740644410331,
     "user": {
      "displayName": "Wassila Ouerdane",
      "userId": "06311256887956564892"
     },
     "user_tz": -60
    },
    "id": "jYLqSquwId9q",
    "outputId": "93bd4f16-6f95-4b85-f955-52b1040ebee7"
   },
   "outputs": [
    {
     "data": {
      "image/png": "[encoded data removed]",
      "text/plain": [
       "<Figure size 640x480 with 1 Axes>"
      ]
     },
     "metadata": {},
     "output_type": "display_data"
    }
   ],
   "source": [
    "import seaborn as sns\n",
    "gini = model2.datacollector.get_model_vars_dataframe()\n",
    "# Plot the Gini coefficient over time\n",
    "g = sns.lineplot(data=gini)\n",
    "g.set(title=\"Gini Coefficient over Time\", ylabel=\"Gini Coefficient\");"
   ]
  },
  {
   "cell_type": "code",
   "execution_count": null,
   "metadata": {
    "colab": {
     "base_uri": "https://localhost:8080/",
     "height": 472
    },
    "executionInfo": {
     "elapsed": 396,
     "status": "ok",
     "timestamp": 1740644417414,
     "user": {
      "displayName": "Wassila Ouerdane",
      "userId": "06311256887956564892"
     },
     "user_tz": -60
    },
    "id": "fj0E5kjYo6PJ",
    "outputId": "a9e6d2d5-e7d8-4a3b-e7a4-1b879d636e95"
   },
   "outputs": [
    {
     "data": {
      "image/png": "[encoded data removed]",
      "text/plain": [
       "<Figure size 640x480 with 1 Axes>"
      ]
     },
     "metadata": {},
     "output_type": "display_data"
    }
   ],
   "source": [
    "#TO get a histogram of agent wealth at the model’s end:(avecle gini)\n",
    "\n",
    "agent_wealth = model2.datacollector.get_agent_vars_dataframe()\n",
    "#agent_wealth.head()\n",
    "\n",
    "last_step = agent_wealth.index.get_level_values(\"Step\").max()\n",
    "end_wealth = agent_wealth.xs(last_step, level=\"Step\")[\"Wealth\"]\n",
    "# Create a histogram of wealth at the last step\n",
    "g = sns.histplot(end_wealth, discrete=True)\n",
    "g.set(\n",
    "    title=\"Distribution of wealth at the end of simulation\",\n",
    "    xlabel=\"Wealth\",\n",
    "    ylabel=\"number of agents\",\n",
    ");\n",
    "\n",
    "\n"
   ]
  },
  {
   "cell_type": "code",
   "execution_count": null,
   "metadata": {
    "colab": {
     "base_uri": "https://localhost:8080/",
     "height": 472
    },
    "executionInfo": {
     "elapsed": 866,
     "status": "ok",
     "timestamp": 1740644420749,
     "user": {
      "displayName": "Wassila Ouerdane",
      "userId": "06311256887956564892"
     },
     "user_tz": -60
    },
    "id": "e8zHexVlpaXd",
    "outputId": "1242447c-5101-4ee1-a96a-bece9a17c1a9"
   },
   "outputs": [
    {
     "data": {
      "image/png": "[encoded data removed]",
      "text/plain": [
       "<Figure size 640x480 with 1 Axes>"
      ]
     },
     "metadata": {},
     "output_type": "display_data"
    }
   ],
   "source": [
    "# Get the wealth of agent 14 over time\n",
    "one_agent_wealth = agent_wealth.xs(14, level=\"AgentID\")\n",
    "\n",
    "# Plot the wealth of agent 14 over time\n",
    "g = sns.lineplot(data=one_agent_wealth, x=\"Step\", y=\"Wealth\")\n",
    "g.set(title=\"Wealth of agent 14 over time\");"
   ]
  },
  {
   "cell_type": "code",
   "execution_count": null,
   "metadata": {
    "colab": {
     "base_uri": "https://localhost:8080/",
     "height": 472
    },
    "executionInfo": {
     "elapsed": 405,
     "status": "ok",
     "timestamp": 1740644424634,
     "user": {
      "displayName": "Wassila Ouerdane",
      "userId": "06311256887956564892"
     },
     "user_tz": -60
    },
    "id": "BoCpbJJJpe15",
    "outputId": "f1dba0ea-61a5-4720-bd77-210e80c6bded"
   },
   "outputs": [
    {
     "data": {
      "image/png": "[encoded data removed]",
      "text/plain": [
       "<Figure size 640x480 with 1 Axes>"
      ]
     },
     "metadata": {},
     "output_type": "display_data"
    }
   ],
   "source": [
    "agent_list = [3, 14, 25]\n",
    "\n",
    "# Get the wealth of multiple agents over time\n",
    "multiple_agents_wealth = agent_wealth[\n",
    "    agent_wealth.index.get_level_values(\"AgentID\").isin(agent_list)\n",
    "]\n",
    "# Plot the wealth of multiple agents over time\n",
    "g = sns.lineplot(data=multiple_agents_wealth, x=\"Step\", y=\"Wealth\", hue=\"AgentID\")\n",
    "g.set(title=\"Wealth of agents 3, 14 and 25 over time\");"
   ]
  },
  {
   "cell_type": "markdown",
   "metadata": {
    "id": "trB-myZFGU5Z"
   },
   "source": [
    "We can also plot the average of all agents, with a 95% confidence interval for that average."
   ]
  },
  {
   "cell_type": "code",
   "execution_count": null,
   "metadata": {
    "colab": {
     "base_uri": "https://localhost:8080/",
     "height": 489
    },
    "executionInfo": {
     "elapsed": 2238,
     "status": "ok",
     "timestamp": 1740644429460,
     "user": {
      "displayName": "Wassila Ouerdane",
      "userId": "06311256887956564892"
     },
     "user_tz": -60
    },
    "id": "qYG6FkF3pi87",
    "outputId": "c153cbc9-e8e7-410e-a2d9-046e8efb67fa"
   },
   "outputs": [
    {
     "data": {
      "text/plain": [
       "[Text(0.5, 1.0, 'Average wealth over time')]"
      ]
     },
     "execution_count": 15,
     "metadata": {},
     "output_type": "execute_result"
    },
    {
     "data": {
      "image/png": "[encoded data removed]",
      "text/plain": [
       "<Figure size 640x480 with 1 Axes>"
      ]
     },
     "metadata": {},
     "output_type": "display_data"
    }
   ],
   "source": [
    "# Transform the data to a long format\n",
    "agent_wealth_long = agent_wealth.T.unstack().reset_index()\n",
    "agent_wealth_long.columns = [\"Step\", \"AgentID\", \"Variable\", \"Value\"]\n",
    "agent_wealth_long.head(3)\n",
    "\n",
    "# Plot the average wealth over time\n",
    "g = sns.lineplot(data=agent_wealth_long, x=\"Step\", y=\"Value\", errorbar=(\"ci\", 95))\n",
    "g.set(title=\"Average wealth over time\")"
   ]
  },
  {
   "cell_type": "markdown",
   "metadata": {
    "id": "9dG3HO2Spog4"
   },
   "source": [
    "Which is exactly 1, as expected in this model, since each agent starts with one wealth unit, and each agent gives one wealth unit to another agent at each step."
   ]
  },
  {
   "cell_type": "markdown",
   "metadata": {
    "id": "OXNJw32NGiLZ"
   },
   "source": [
    "## AgentSet Functionality\n",
    "\n",
    "**Background:** With Mesa's AgentSet approach users can also [manage agents](https://mesa.readthedocs.io/latest/overview.html#agentset-and-model-agents) in several ways.\n",
    "\n",
    "We will show three agent management techniques just to demonstrate the capability\n",
    "\n",
    "1. **Selecting** We will institute a policy that has the rich agents give money to the  poor agents\n",
    "2. **GroupBy** We will group agents together based on wealth"
   ]
  },
  {
   "cell_type": "markdown",
   "metadata": {
    "id": "aXQLRH4nGpcS"
   },
   "source": [
    "### Selecting\n",
    "\n",
    "For this variation of the model we are going to institute a policy that rich agents give money to poor agent\n",
    "\n",
    " We will use `agents.select` to separate the agents into rich and poor agents. If there are rich agents then they are the only ones who give money."
   ]
  },
  {
   "cell_type": "code",
   "execution_count": 16,
   "metadata": {
    "executionInfo": {
     "elapsed": 7,
     "status": "ok",
     "timestamp": 1740644432443,
     "user": {
      "displayName": "Wassila Ouerdane",
      "userId": "06311256887956564892"
     },
     "user_tz": -60
    },
    "id": "GmHVIo3_Ghrr"
   },
   "outputs": [],
   "source": [
    "##rich agents give money to poor agent\n",
    "\n",
    "class MoneyAgent(Agent):\n",
    "    \"\"\"An agent with fixed initial wealth.\"\"\"\n",
    "\n",
    "    def __init__(self, model):\n",
    "        super().__init__(model)\n",
    "        self.wealth = 1\n",
    "\n",
    "    def give_money(self, poor_agents):\n",
    "        if self.wealth > 0:\n",
    "            other_agent = self.random.choice(poor_agents)\n",
    "            other_agent.wealth += 1\n",
    "            self.wealth -= 1\n",
    "\n",
    "\n",
    "class MoneyModel(Model):\n",
    "    \"\"\"A model with some number of agents.\"\"\"\n",
    "\n",
    "    def __init__(self, n):\n",
    "        super().__init__()\n",
    "        self.num_agents = n\n",
    "\n",
    "        # Create agents\n",
    "        MoneyAgent.create_agents(model=self, n=n)\n",
    "\n",
    "        self.datacollector = DataCollector(\n",
    "            model_reporters={\"Gini\": compute_gini}, agent_reporters={\"Wealth\": \"wealth\"}\n",
    "        )\n",
    "\n",
    "    def step(self):\n",
    "        self.datacollector.collect(self)\n",
    "        # Get lists of rich and poor agents\n",
    "        rich_agents = model.agents.select(lambda a: a.wealth >= 3)\n",
    "        poor_agents = model.agents.select(lambda a: a.wealth < 3)\n",
    "        # When there is rich agents only have them give money to the poor agents\n",
    "        if len(rich_agents) > 0:\n",
    "            rich_agents.shuffle_do(\"give_money\", poor_agents)\n",
    "        else:\n",
    "            poor_agents.shuffle_do(\"give_money\", poor_agents)"
   ]
  },
  {
   "cell_type": "code",
   "execution_count": 17,
   "metadata": {
    "colab": {
     "base_uri": "https://localhost:8080/",
     "height": 472
    },
    "executionInfo": {
     "elapsed": 277,
     "status": "ok",
     "timestamp": 1740644435624,
     "user": {
      "displayName": "Wassila Ouerdane",
      "userId": "06311256887956564892"
     },
     "user_tz": -60
    },
    "id": "1-cXj9uqIZNc",
    "outputId": "87e33c26-f4ab-4aac-bc3d-3e1d525a7231"
   },
   "outputs": [
    {
     "data": {
      "image/png": "[encoded data removed]",
      "text/plain": [
       "<Figure size 640x480 with 1 Axes>"
      ]
     },
     "metadata": {},
     "output_type": "display_data"
    }
   ],
   "source": [
    "model = MoneyModel(100)\n",
    "for _ in range(20):\n",
    "    model.step()\n",
    "\n",
    "\n",
    "data = model.datacollector.get_agent_vars_dataframe()\n",
    "# Use seaborn\n",
    "g = sns.histplot(data[\"Wealth\"], discrete=True)\n",
    "g.set(title=\"Wealth distribution\", xlabel=\"Wealth\", ylabel=\"number of agents\");"
   ]
  },
  {
   "cell_type": "markdown",
   "metadata": {
    "id": "UUTO9y3ZIlys"
   },
   "source": [
    "### Group By\n",
    "\n",
    "In this case we will give agents an attribute of enthnicity of Green, Blue or Mixed. Green and Blue agents only give money to their ethnicity while Mixed can give money to anyone.\n",
    "\n",
    "Using `groupby` we will execute the above logic in our code by passing a list of grouped agents into our `give_money` function.  To ensure we can plot wealth by group we also need to add ethnicity to our datacollector."
   ]
  },
  {
   "cell_type": "code",
   "execution_count": 18,
   "metadata": {
    "executionInfo": {
     "elapsed": 3,
     "status": "ok",
     "timestamp": 1740644438743,
     "user": {
      "displayName": "Wassila Ouerdane",
      "userId": "06311256887956564892"
     },
     "user_tz": -60
    },
    "id": "bbyQK8FvIlWJ"
   },
   "outputs": [],
   "source": [
    "class MoneyAgent(Agent):\n",
    "    \"\"\"An agent with fixed initial wealth.\"\"\"\n",
    "\n",
    "    def __init__(self, model, ethnicity):\n",
    "        super().__init__(model)\n",
    "        self.wealth = 1\n",
    "        self.ethnicity = ethnicity\n",
    "\n",
    "    def give_money(self, similars):\n",
    "        if self.wealth > 0:\n",
    "            other_agent = self.random.choice(similars)\n",
    "            other_agent.wealth += 1\n",
    "            self.wealth -= 1\n",
    "\n",
    "\n",
    "class MoneyModel(Model):\n",
    "    \"\"\"A model with some number of agents.\"\"\"\n",
    "\n",
    "    def __init__(self, n):\n",
    "        super().__init__()\n",
    "        self.num_agents = n\n",
    "\n",
    "        # Create a list of our different ethnicities\n",
    "        ethnicities = [\"Green\", \"Blue\", \"Mixed\"]\n",
    "\n",
    "        # Create agents\n",
    "        MoneyAgent.create_agents(model=self, n=n, ethnicity=self.random.choice(ethnicities))\n",
    "\n",
    "        self.datacollector = DataCollector(\n",
    "            model_reporters={\"Gini\": compute_gini},\n",
    "            agent_reporters={\"Wealth\": \"wealth\", \"Ethnicity\": \"ethnicity\"},\n",
    "        )\n",
    "\n",
    "    def step(self):\n",
    "        self.datacollector.collect(self)\n",
    "        # groupby returns a dictionary of the different ethnicities with a list of agents\n",
    "        grouped_agents = model.agents.groupby(\"ethnicity\")\n",
    "\n",
    "        for ethnic, similars in grouped_agents:\n",
    "            if ethnic != \"Mixed\":\n",
    "                similars.shuffle_do(\"give_money\", similars)\n",
    "            else:\n",
    "                similars.shuffle_do(\n",
    "                    \"give_money\", self.agents\n",
    "                )  # This allows mixed to trade with anyone"
   ]
  },
  {
   "cell_type": "code",
   "execution_count": 19,
   "metadata": {
    "colab": {
     "base_uri": "https://localhost:8080/",
     "height": 449
    },
    "executionInfo": {
     "elapsed": 314,
     "status": "ok",
     "timestamp": 1740644441637,
     "user": {
      "displayName": "Wassila Ouerdane",
      "userId": "06311256887956564892"
     },
     "user_tz": -60
    },
    "id": "T8qYdZVqJGnz",
    "outputId": "9d99d05a-3f53-48f6-c805-0ddea78ec378"
   },
   "outputs": [
    {
     "data": {
      "image/png": "[encoded data removed]",
      "text/plain": [
       "<Figure size 640x480 with 1 Axes>"
      ]
     },
     "metadata": {},
     "output_type": "display_data"
    }
   ],
   "source": [
    "# Run the model\n",
    "model = MoneyModel(100)\n",
    "for _ in range(20):\n",
    "    model.step()\n",
    "\n",
    "# get the data\n",
    "data = model.datacollector.get_agent_vars_dataframe()\n",
    "# assign histogram colors\n",
    "palette = {\"Green\": \"green\", \"Blue\": \"blue\", \"Mixed\": \"purple\"}\n",
    "sns.histplot(data=data, x=\"Wealth\", hue=\"Ethnicity\", discrete=True, palette=palette)\n",
    "g.set(title=\"Wealth distribution\", xlabel=\"Wealth\", ylabel=\"number of agents\");"
   ]
  },
  {
   "cell_type": "markdown",
   "metadata": {
    "id": "hk99EYbda87A"
   },
   "source": [
    "# Batch Run\n",
    "\n",
    "Like we mentioned above, you usually won't run a model only once, but multiple times, with fixed parameters to find the overall distributions the model generates, and with varying parameters to analyze how they drive the model's outputs and behaviors. This is commonly referred to as parameter sweeps. Instead of needing to write nested for-loops for each model, Mesa provides a [`batch_run`](https://github.com/projectmesa/mesa/blob/main/mesa/batchrunner.py) function which automates it for you.\n",
    "\n",
    "The batch runner also requires an additional variable `self.running` for the MoneyModel class. This variable enables conditional shut off of the model once a condition is met. In this example it will be set as True indefinitely."
   ]
  },
  {
   "cell_type": "markdown",
   "metadata": {
    "id": "847gvKMupwbF"
   },
   "source": [
    "### Additional agent reporter\n",
    "\n",
    "To make the results a little bit more interesting, we will also calculate the number of consecutive time steps an agent hasn’t given any wealth as an agent reporter.\n",
    "\n",
    "This way we can see how data is handled when multiple reporters are used.\n",
    "\n"
   ]
  },
  {
   "cell_type": "code",
   "execution_count": 20,
   "metadata": {
    "executionInfo": {
     "elapsed": 2,
     "status": "ok",
     "timestamp": 1740644444873,
     "user": {
      "displayName": "Wassila Ouerdane",
      "userId": "06311256887956564892"
     },
     "user_tz": -60
    },
    "id": "Xkng265Yp2oq"
   },
   "outputs": [],
   "source": [
    "def compute_gini(model):\n",
    "    agent_wealths = [agent.wealth for agent in model.agents]\n",
    "    x = sorted(agent_wealths)\n",
    "    n = model.num_agents\n",
    "    B = sum(xi * (n - i) for i, xi in enumerate(x)) / (n * sum(x))\n",
    "    return 1 + (1 / n) - 2 * B\n",
    "\n",
    "\n",
    "class MoneyModel(Model):\n",
    "    \"\"\"A model with some number of agents.\"\"\"\n",
    "\n",
    "    def __init__(self, n, width, height, seed=None):\n",
    "        super().__init__(seed=seed)\n",
    "        self.num_agents = n\n",
    "        self.grid = mesa.space.MultiGrid(width, height, True)\n",
    "        self.running = True\n",
    "\n",
    "        # Create agents\n",
    "        agents = MoneyAgent.create_agents(model=self, n=n)\n",
    "        # Create x and y positions for agents\n",
    "        x = self.rng.integers(0, self.grid.width, size=(n,))\n",
    "        y = self.rng.integers(0, self.grid.height, size=(n,))\n",
    "        for a, i, j in zip(agents, x, y):\n",
    "            # Add the agent to a random grid cell\n",
    "            self.grid.place_agent(a, (i, j))\n",
    "\n",
    "        self.datacollector = mesa.DataCollector(\n",
    "            model_reporters={\"Gini\": compute_gini},\n",
    "            agent_reporters={\"Wealth\": \"wealth\", \"Steps_not_given\": \"steps_not_given\"},\n",
    "        )\n",
    "\n",
    "    def step(self):\n",
    "        self.datacollector.collect(self)\n",
    "        self.agents.shuffle_do(\"step_agent\")\n",
    "\n",
    "\n",
    "\n",
    "class MoneyAgent(Agent):\n",
    "    \"\"\"An agent with fixed initial wealth.\"\"\"\n",
    "\n",
    "    def __init__(self, model):\n",
    "        super().__init__(model)\n",
    "        self.wealth = 1\n",
    "        self.steps_not_given = 0\n",
    "\n",
    "    def move(self):\n",
    "        possible_steps = self.model.grid.get_neighborhood(\n",
    "            self.pos, moore=True, include_center=False\n",
    "        )\n",
    "        new_position = self.random.choice(possible_steps)\n",
    "        self.model.grid.move_agent(self, new_position)\n",
    "\n",
    "    def give_money(self):\n",
    "        cellmates = self.model.grid.get_cell_list_contents([self.pos])\n",
    "        cellmates.pop(cellmates.index(self))\n",
    "        if len(cellmates) > 0:\n",
    "            other = self.random.choice(cellmates)\n",
    "            other.wealth += 1\n",
    "            self.wealth -= 1\n",
    "            self.steps_not_given = 0\n",
    "        else:\n",
    "            self.steps_not_given += 1\n",
    "\n",
    "    def step_agent(self):\n",
    "        self.move()\n",
    "        if self.wealth>0:\n",
    "            self.give_money()"
   ]
  },
  {
   "cell_type": "markdown",
   "metadata": {
    "id": "LONCHtbZqGX8"
   },
   "source": [
    "### Batch run\n",
    "\n",
    "We call `batch_run` with the following arguments:\n",
    "\n",
    "\n",
    "\n",
    "*   `model_cls` The model class that is used for the batch run.\n",
    "*  `parameters` A dictionary containing all the parameters of the model class and desired values to use for the batch run as key-value pairs. Each value can either be fixed ( e.g. `{\"height\": 10, \"width\": 10}`) or an iterable (e.g. `{\"N\": range(10, 500, 10)}`). `batch_run` will then generate all possible parameter combinations based on this dictionary and run the model iterations times for each combination.\n",
    "* `number_processes` If not specified, defaults to 1. Set it to None to use all the available processors. Note: Multiprocessing does make debugging challenging. If your parameter sweeps are resulting in unexpected errors set number_processes=1.\n",
    "* `iterations` The number of iterations to run each parameter combination for. Optional. If not specified, defaults to 1.\n",
    "*`data_collection_period` The length of the period (number of steps) after which the model and agent reporters collect data. Optional. If not specified, defaults to -1, i.e. only at the end of each episode.\n",
    "*`max_steps` The maximum number of time steps after which the model halts. An episode does either end when `self.running` of the model class is set to False or when `model.schedule.steps == max_steps` is reached. Optional. If not specified, defaults to 1000.\n",
    "*`display_progress` Display the batch run progress. Optional. If not specified, defaults to True.\n",
    "\n",
    "\n",
    "In the following example, we hold the height and width fixed, and vary the number of agents. We tell the batch runner to run 5 instantiations of the model with each number of agents, and to run each for 100 steps.\n",
    "\n",
    "We want to keep track of\n",
    "\n",
    "1. the Gini coefficient value at each time step, and\n",
    "2. the individual agent’s wealth development and steps without giving money.\n",
    "\n",
    "\n",
    "Important: Since for the latter changes at each time step might be interesting, we set `data_collection_period=1`. By default, it only collects data at the end of each episode.\n",
    "\n",
    "Note: The total number of runs is 245 (= 49 different populations * 5 iterations per population). However, the resulting list of dictionaries will be of length 6186250 (= 250 average agents per population * 49 different populations * 5 iterations per population * 101 steps per iteration).\n",
    "\n",
    "**Note for Windows OS users**: If you are running this tutorial in Jupyter, make sure that you set number_processes = 1 (single process). If number_processes is greater than 1, it is less straightforward to set up. You can read Mesa’s how-to guide, in ‘Using multi-process batch_run on Windows’ section for how to do it.\n",
    "\n"
   ]
  },
  {
   "cell_type": "code",
   "execution_count": 21,
   "metadata": {
    "colab": {
     "base_uri": "https://localhost:8080/",
     "height": 49,
     "referenced_widgets": [
      "4ba795e0402c4992b37542992cd7d441",
      "a94c8f60d56e4905a35f6e874884c049",
      "972a49c10c24460eb73c0ff635ba12b1",
      "6b576623710c463bb5d94aa58721bc3c",
      "f8e8d4dbd03349a583f91ca73ee34269",
      "4aa75867b2ae4f9fbc59930a242ddb45",
      "2da8060414c643788e0631b818ffe87d",
      "ca4d9f1bad484bbf9ec2d9fbed5fe1c7",
      "2474261f477f45b39440b75b613e549e",
      "937e3428fd4d4bd78366a9a0b5d6f644",
      "3e88d65767a945fda7d85d0d562d2d7b"
     ]
    },
    "executionInfo": {
     "elapsed": 6315,
     "status": "ok",
     "timestamp": 1740644454902,
     "user": {
      "displayName": "Wassila Ouerdane",
      "userId": "06311256887956564892"
     },
     "user_tz": -60
    },
    "id": "XOCq-ienqaQC",
    "outputId": "121cebd1-d95e-490b-d19d-84c20988c730"
   },
   "outputs": [
    {
     "data": {
      "application/vnd.jupyter.widget-view+json": {
       "model_id": "4ba795e0402c4992b37542992cd7d441",
       "version_major": 2,
       "version_minor": 0
      },
      "text/plain": [
       "  0%|          | 0/133 [00:00<?, ?it/s]"
      ]
     },
     "metadata": {},
     "output_type": "display_data"
    }
   ],
   "source": [
    "import mesa\n",
    "params = {\"width\": 10, \"height\": 10, \"n\": range(5, 100, 5)} # range(start, stop, step)\n",
    "\n",
    "results = mesa.batch_run(\n",
    "    MoneyModel,\n",
    "    parameters=params,\n",
    "    iterations=7,\n",
    "    max_steps=100,\n",
    "    number_processes=1,\n",
    "    data_collection_period=1,\n",
    "    display_progress=True,\n",
    ")\n",
    "\n"
   ]
  },
  {
   "cell_type": "markdown",
   "metadata": {
    "id": "84h4RVQorEhh"
   },
   "source": [
    "To further analyze the return of the batch_run function, we convert the list of dictionaries to a Pandas DataFrame and print its keys."
   ]
  },
  {
   "cell_type": "code",
   "execution_count": 22,
   "metadata": {
    "colab": {
     "base_uri": "https://localhost:8080/"
    },
    "executionInfo": {
     "elapsed": 1940,
     "status": "ok",
     "timestamp": 1740644459784,
     "user": {
      "displayName": "Wassila Ouerdane",
      "userId": "06311256887956564892"
     },
     "user_tz": -60
    },
    "id": "z7qg9mjOrHag",
    "outputId": "ecac87c9-0897-40bb-f1c8-d716d791058e"
   },
   "outputs": [
    {
     "name": "stdout",
     "output_type": "stream",
     "text": [
      "Index(['RunId', 'iteration', 'Step', 'width', 'height', 'n', 'Gini', 'AgentID',\n",
      "       'Wealth', 'Steps_not_given'],\n",
      "      dtype='object')\n"
     ]
    }
   ],
   "source": [
    "import pandas as pd\n",
    "results_df = pd.DataFrame(results)\n",
    "print(results_df.keys())"
   ]
  },
  {
   "cell_type": "markdown",
   "metadata": {
    "id": "hUUIBnctrgRe"
   },
   "source": [
    "First, we want to take a closer look at how the Gini coefficient at the end of each episode changes as we increase the size of the population. For this, we filter our results to only contain the data of one agent (the Gini coefficient will be the same for the entire population at any time) at the 100th step of each episode and then scatter-plot the values for the Gini coefficient over the the number of agents. Notice there are five values for each population size since we set iterations=5 when calling the batch run."
   ]
  },
  {
   "cell_type": "code",
   "execution_count": 23,
   "metadata": {
    "colab": {
     "base_uri": "https://localhost:8080/",
     "height": 472
    },
    "executionInfo": {
     "elapsed": 328,
     "status": "ok",
     "timestamp": 1740644460836,
     "user": {
      "displayName": "Wassila Ouerdane",
      "userId": "06311256887956564892"
     },
     "user_tz": -60
    },
    "id": "su9eXCFUrXhr",
    "outputId": "80f13984-0c2d-425e-f79d-2b8e74ceb967"
   },
   "outputs": [
    {
     "data": {
      "image/png": "[encoded data removed]",
      "text/plain": [
       "<Figure size 640x480 with 1 Axes>"
      ]
     },
     "metadata": {},
     "output_type": "display_data"
    }
   ],
   "source": [
    "# Filter the results to only contain the data of one agent (the Gini coefficient will be the same for the entire population at any time) at the 100th step of each episode\n",
    "results_filtered = results_df[(results_df.AgentID == 1) & (results_df.Step == 100)]\n",
    "results_filtered[[\"iteration\", \"n\", \"Gini\"]].reset_index(\n",
    "    drop=True\n",
    ").head()  # Create a scatter plot\n",
    "g = sns.scatterplot(data=results_filtered, x=\"n\", y=\"Gini\")\n",
    "g.set(\n",
    "    xlabel=\"Number of agents\",\n",
    "    ylabel=\"Gini coefficient\",\n",
    "    title=\"Gini coefficient vs. number of agents\",\n",
    ");"
   ]
  },
  {
   "cell_type": "markdown",
   "metadata": {
    "id": "TRLW1UAlrow_"
   },
   "source": [
    "We can create different kinds of plot from this filtered DataFrame. For example, a point plot with error bars."
   ]
  },
  {
   "cell_type": "code",
   "execution_count": 24,
   "metadata": {
    "colab": {
     "base_uri": "https://localhost:8080/",
     "height": 410
    },
    "executionInfo": {
     "elapsed": 750,
     "status": "ok",
     "timestamp": 1740644464077,
     "user": {
      "displayName": "Wassila Ouerdane",
      "userId": "06311256887956564892"
     },
     "user_tz": -60
    },
    "id": "cTzBjAX3rdPA",
    "outputId": "f145db83-ad12-4155-8f72-cf11eb7c2974"
   },
   "outputs": [
    {
     "data": {
      "image/png": "[encoded data removed]",
      "text/plain": [
       "<Figure size 800x400 with 1 Axes>"
      ]
     },
     "metadata": {},
     "output_type": "display_data"
    }
   ],
   "source": [
    "# Create a point plot with error bars\n",
    "g = sns.pointplot(data=results_filtered, x=\"n\", y=\"Gini\", linestyle=\"None\")\n",
    "g.figure.set_size_inches(8, 4)\n",
    "g.set(\n",
    "    xlabel=\"number of agents\",\n",
    "    ylabel=\"Gini coefficient\",\n",
    "    title=\"Gini coefficient vs. number of agents\",\n",
    ");"
   ]
  },
  {
   "cell_type": "markdown",
   "metadata": {
    "id": "WKErzaS3rs2j"
   },
   "source": [
    "Second, we want to display the agent’s wealth at each time step of one specific episode. To do this, we again filter our large data frame, this time with a fixed number of agents and only for a specific iteration of that population. To print the results, we convert the filtered data frame to a string specifying the desired columns to print.\n",
    "\n",
    "Pandas has built-in functions to convert to a lot of different data formats. For example, to display as a table in a Jupyter Notebook, we can use the to_html() function which takes the same arguments as to_string() (see commented lines)."
   ]
  },
  {
   "cell_type": "code",
   "execution_count": 25,
   "metadata": {
    "colab": {
     "base_uri": "https://localhost:8080/",
     "height": 1000
    },
    "executionInfo": {
     "elapsed": 31,
     "status": "ok",
     "timestamp": 1740644467126,
     "user": {
      "displayName": "Wassila Ouerdane",
      "userId": "06311256887956564892"
     },
     "user_tz": -60
    },
    "id": "gyz8YxlfrwyT",
    "outputId": "3ef5b3db-f932-42a1-a824-6a9a3cd43262"
   },
   "outputs": [
    {
     "name": "stdout",
     "output_type": "stream",
     "text": [
      " Step  AgentID  Wealth\n",
      "    0      NaN     NaN\n",
      "    1      1.0     1.0\n",
      "    1      2.0     1.0\n",
      "    1      3.0     1.0\n",
      "    1      4.0     1.0\n",
      "  ...      ...     ...\n",
      "  100      6.0     1.0\n",
      "  100      7.0     0.0\n",
      "  100      8.0     0.0\n",
      "  100      9.0     0.0\n",
      "  100     10.0     2.0\n"
     ]
    },
    {
     "data": {
      "text/html": [
       "<table border=\"1\" class=\"dataframe\">\n",
       "  <thead>\n",
       "    <tr style=\"text-align: right;\">\n",
       "      <th>Step</th>\n",
       "      <th>AgentID</th>\n",
       "      <th>Wealth</th>\n",
       "    </tr>\n",
       "  </thead>\n",
       "  <tbody>\n",
       "    <tr>\n",
       "      <td>0</td>\n",
       "      <td>NaN</td>\n",
       "      <td>NaN</td>\n",
       "    </tr>\n",
       "    <tr>\n",
       "      <td>1</td>\n",
       "      <td>1.0</td>\n",
       "      <td>1.0</td>\n",
       "    </tr>\n",
       "    <tr>\n",
       "      <td>1</td>\n",
       "      <td>2.0</td>\n",
       "      <td>1.0</td>\n",
       "    </tr>\n",
       "    <tr>\n",
       "      <td>1</td>\n",
       "      <td>3.0</td>\n",
       "      <td>1.0</td>\n",
       "    </tr>\n",
       "    <tr>\n",
       "      <td>1</td>\n",
       "      <td>4.0</td>\n",
       "      <td>1.0</td>\n",
       "    </tr>\n",
       "    <tr>\n",
       "      <td>1</td>\n",
       "      <td>5.0</td>\n",
       "      <td>1.0</td>\n",
       "    </tr>\n",
       "    <tr>\n",
       "      <td>1</td>\n",
       "      <td>6.0</td>\n",
       "      <td>1.0</td>\n",
       "    </tr>\n",
       "    <tr>\n",
       "      <td>1</td>\n",
       "      <td>7.0</td>\n",
       "      <td>1.0</td>\n",
       "    </tr>\n",
       "    <tr>\n",
       "      <td>1</td>\n",
       "      <td>8.0</td>\n",
       "      <td>1.0</td>\n",
       "    </tr>\n",
       "    <tr>\n",
       "      <td>1</td>\n",
       "      <td>9.0</td>\n",
       "      <td>1.0</td>\n",
       "    </tr>\n",
       "    <tr>\n",
       "      <td>1</td>\n",
       "      <td>10.0</td>\n",
       "      <td>1.0</td>\n",
       "    </tr>\n",
       "    <tr>\n",
       "      <td>2</td>\n",
       "      <td>1.0</td>\n",
       "      <td>1.0</td>\n",
       "    </tr>\n",
       "    <tr>\n",
       "      <td>...</td>\n",
       "      <td>...</td>\n",
       "      <td>...</td>\n",
       "    </tr>\n",
       "    <tr>\n",
       "      <td>99</td>\n",
       "      <td>9.0</td>\n",
       "      <td>0.0</td>\n",
       "    </tr>\n",
       "    <tr>\n",
       "      <td>99</td>\n",
       "      <td>10.0</td>\n",
       "      <td>2.0</td>\n",
       "    </tr>\n",
       "    <tr>\n",
       "      <td>100</td>\n",
       "      <td>1.0</td>\n",
       "      <td>0.0</td>\n",
       "    </tr>\n",
       "    <tr>\n",
       "      <td>100</td>\n",
       "      <td>2.0</td>\n",
       "      <td>2.0</td>\n",
       "    </tr>\n",
       "    <tr>\n",
       "      <td>100</td>\n",
       "      <td>3.0</td>\n",
       "      <td>0.0</td>\n",
       "    </tr>\n",
       "    <tr>\n",
       "      <td>100</td>\n",
       "      <td>4.0</td>\n",
       "      <td>0.0</td>\n",
       "    </tr>\n",
       "    <tr>\n",
       "      <td>100</td>\n",
       "      <td>5.0</td>\n",
       "      <td>5.0</td>\n",
       "    </tr>\n",
       "    <tr>\n",
       "      <td>100</td>\n",
       "      <td>6.0</td>\n",
       "      <td>1.0</td>\n",
       "    </tr>\n",
       "    <tr>\n",
       "      <td>100</td>\n",
       "      <td>7.0</td>\n",
       "      <td>0.0</td>\n",
       "    </tr>\n",
       "    <tr>\n",
       "      <td>100</td>\n",
       "      <td>8.0</td>\n",
       "      <td>0.0</td>\n",
       "    </tr>\n",
       "    <tr>\n",
       "      <td>100</td>\n",
       "      <td>9.0</td>\n",
       "      <td>0.0</td>\n",
       "    </tr>\n",
       "    <tr>\n",
       "      <td>100</td>\n",
       "      <td>10.0</td>\n",
       "      <td>2.0</td>\n",
       "    </tr>\n",
       "  </tbody>\n",
       "</table>"
      ],
      "text/plain": [
       "<IPython.core.display.HTML object>"
      ]
     },
     "metadata": {},
     "output_type": "display_data"
    }
   ],
   "source": [
    "# First, we filter the results\n",
    "one_episode_wealth = results_df[(results_df.n == 10) & (results_df.iteration == 2)]\n",
    "# Then, print the columns of interest of the filtered data frame\n",
    "print(\n",
    "    one_episode_wealth.to_string(\n",
    "        index=False, columns=[\"Step\", \"AgentID\", \"Wealth\"], max_rows=10\n",
    "    )\n",
    ")\n",
    "# For a prettier display we can also convert the data frame to html, uncomment to test in a Jupyter Notebook\n",
    "from IPython.display import display, HTML\n",
    "\n",
    "display(HTML(one_episode_wealth.to_html(index=False, columns=['Step', 'AgentID', 'Wealth'], max_rows=25)))"
   ]
  },
  {
   "cell_type": "markdown",
   "metadata": {
    "id": "uPuGcJgRedZ_"
   },
   "source": [
    "Lastly, we want to take a look at the development of the Gini coefficient over the course of one iteration. Filtering and printing looks almost the same as above, only this time we choose a different episode.\n",
    "\n"
   ]
  },
  {
   "cell_type": "code",
   "execution_count": 26,
   "metadata": {
    "colab": {
     "base_uri": "https://localhost:8080/"
    },
    "executionInfo": {
     "elapsed": 55,
     "status": "ok",
     "timestamp": 1740644470622,
     "user": {
      "displayName": "Wassila Ouerdane",
      "userId": "06311256887956564892"
     },
     "user_tz": -60
    },
    "id": "src2pmpyr246",
    "outputId": "c4213fed-9896-40dc-8d1d-d407ac5df9b7"
   },
   "outputs": [
    {
     "name": "stdout",
     "output_type": "stream",
     "text": [
      " Step  Gini\n",
      "    1  0.32\n",
      "    2  0.32\n",
      "    3  0.32\n",
      "    4  0.42\n",
      "    5  0.42\n",
      "  ...   ...\n",
      "   96  0.66\n",
      "   97  0.66\n",
      "   98  0.72\n",
      "   99  0.72\n",
      "  100  0.72\n"
     ]
    }
   ],
   "source": [
    "results_one_episode = results_df[\n",
    "    (results_df.n == 10) & (results_df.iteration == 1) & (results_df.AgentID == 1)\n",
    "]\n",
    "print(results_one_episode.to_string(index=False, columns=[\"Step\", \"Gini\"], max_rows=10))"
   ]
  },
  {
   "cell_type": "markdown",
   "metadata": {
    "id": "XQtWKXssr9YS"
   },
   "source": [
    "### Analyzing model reporters: Comparing 5 scenarios\n",
    "\n",
    "Other insight might be gathered when we compare the Gini coefficient of different scenarios. For example, we can compare the Gini coefficient of a population with 25 agents to the Gini coefficient of a population with 400 agents. While doing this, we increase the number of iterations to 25 to get a better estimate of the Gini coefficient for each population size and get usable error estimations."
   ]
  },
  {
   "cell_type": "code",
   "execution_count": 27,
   "metadata": {
    "colab": {
     "base_uri": "https://localhost:8080/",
     "height": 49,
     "referenced_widgets": [
      "a93c9844c9904203a366a95f820c002c",
      "ebc9fb86fe854a549abe3064a07b5aac",
      "6b3576d92c6f407e9989dbb56fd899f8",
      "e84d50be256b4d5589f723a302a707c3",
      "f5af8698ba8443e19151b6535a6f6ea7",
      "a553a80188474895aa6170886859b1fa",
      "f52369d0021f44fab6cb9be4e135965d",
      "df6e776d6f9d488c8bc30ed0c58e122b",
      "82fd915f4cd44309931c71c465d77b69",
      "fe5e1c7b0ffe4648b03d5e01f53f266d",
      "3c625750f22141268e1614c8550e85ad"
     ]
    },
    "executionInfo": {
     "elapsed": 26345,
     "status": "ok",
     "timestamp": 1740644499820,
     "user": {
      "displayName": "Wassila Ouerdane",
      "userId": "06311256887956564892"
     },
     "user_tz": -60
    },
    "id": "mT6ZJiyNsAqz",
    "outputId": "dffb150e-0651-45fb-cdcd-6d445b4d2b01"
   },
   "outputs": [
    {
     "data": {
      "application/vnd.jupyter.widget-view+json": {
       "model_id": "a93c9844c9904203a366a95f820c002c",
       "version_major": 2,
       "version_minor": 0
      },
      "text/plain": [
       "  0%|          | 0/500 [00:00<?, ?it/s]"
      ]
     },
     "metadata": {},
     "output_type": "display_data"
    }
   ],
   "source": [
    "params = {\"width\": 10, \"height\": 10, \"n\": [5, 10, 20, 40, 80]}\n",
    "\n",
    "results_5s = mesa.batch_run(\n",
    "    MoneyModel,\n",
    "    parameters=params,\n",
    "    iterations=100,\n",
    "    max_steps=120,\n",
    "    number_processes=1,\n",
    "    data_collection_period=1,  # Important, otherwise the datacollector will only collect data of the last time step\n",
    "    display_progress=True,\n",
    ")\n",
    "\n",
    "results_5s_df = pd.DataFrame(results_5s)"
   ]
  },
  {
   "cell_type": "code",
   "execution_count": 28,
   "metadata": {
    "colab": {
     "base_uri": "https://localhost:8080/",
     "height": 53
    },
    "executionInfo": {
     "elapsed": 34,
     "status": "ok",
     "timestamp": 1740644499851,
     "user": {
      "displayName": "Wassila Ouerdane",
      "userId": "06311256887956564892"
     },
     "user_tz": -60
    },
    "id": "r0yMpmPRsHdH",
    "outputId": "b72d7117-1a89-49ac-a210-daf5cc61dd9a"
   },
   "outputs": [
    {
     "data": {
      "application/vnd.google.colaboratory.intrinsic+json": {
       "summary": "{\n  \"name\": \"results_5s_df_filtered\",\n  \"rows\": 0,\n  \"fields\": [\n    {\n      \"column\": \"RunId\",\n      \"properties\": {\n        \"dtype\": \"number\",\n        \"std\": null,\n        \"min\": null,\n        \"max\": null,\n        \"num_unique_values\": 0,\n        \"samples\": [],\n        \"semantic_type\": \"\",\n        \"description\": \"\"\n      }\n    },\n    {\n      \"column\": \"iteration\",\n      \"properties\": {\n        \"dtype\": \"number\",\n        \"std\": null,\n        \"min\": null,\n        \"max\": null,\n        \"num_unique_values\": 0,\n        \"samples\": [],\n        \"semantic_type\": \"\",\n        \"description\": \"\"\n      }\n    },\n    {\n      \"column\": \"Step\",\n      \"properties\": {\n        \"dtype\": \"number\",\n        \"std\": null,\n        \"min\": null,\n        \"max\": null,\n        \"num_unique_values\": 0,\n        \"samples\": [],\n        \"semantic_type\": \"\",\n        \"description\": \"\"\n      }\n    },\n    {\n      \"column\": \"width\",\n      \"properties\": {\n        \"dtype\": \"number\",\n        \"std\": null,\n        \"min\": null,\n        \"max\": null,\n        \"num_unique_values\": 0,\n        \"samples\": [],\n        \"semantic_type\": \"\",\n        \"description\": \"\"\n      }\n    },\n    {\n      \"column\": \"height\",\n      \"properties\": {\n        \"dtype\": \"number\",\n        \"std\": null,\n        \"min\": null,\n        \"max\": null,\n        \"num_unique_values\": 0,\n        \"samples\": [],\n        \"semantic_type\": \"\",\n        \"description\": \"\"\n      }\n    },\n    {\n      \"column\": \"n\",\n      \"properties\": {\n        \"dtype\": \"number\",\n        \"std\": null,\n        \"min\": null,\n        \"max\": null,\n        \"num_unique_values\": 0,\n        \"samples\": [],\n        \"semantic_type\": \"\",\n        \"description\": \"\"\n      }\n    },\n    {\n      \"column\": \"Gini\",\n      \"properties\": {\n        \"dtype\": \"number\",\n        \"std\": null,\n        \"min\": null,\n        \"max\": null,\n        \"num_unique_values\": 0,\n        \"samples\": [],\n        \"semantic_type\": \"\",\n        \"description\": \"\"\n      }\n    },\n    {\n      \"column\": \"AgentID\",\n      \"properties\": {\n        \"dtype\": \"number\",\n        \"std\": null,\n        \"min\": null,\n        \"max\": null,\n        \"num_unique_values\": 0,\n        \"samples\": [],\n        \"semantic_type\": \"\",\n        \"description\": \"\"\n      }\n    },\n    {\n      \"column\": \"Wealth\",\n      \"properties\": {\n        \"dtype\": \"number\",\n        \"std\": null,\n        \"min\": null,\n        \"max\": null,\n        \"num_unique_values\": 0,\n        \"samples\": [],\n        \"semantic_type\": \"\",\n        \"description\": \"\"\n      }\n    },\n    {\n      \"column\": \"Steps_not_given\",\n      \"properties\": {\n        \"dtype\": \"number\",\n        \"std\": null,\n        \"min\": null,\n        \"max\": null,\n        \"num_unique_values\": 0,\n        \"samples\": [],\n        \"semantic_type\": \"\",\n        \"description\": \"\"\n      }\n    }\n  ]\n}",
       "type": "dataframe",
       "variable_name": "results_5s_df_filtered"
      },
      "text/html": [
       "\n",
       "  <div id=\"df-f87efd58-c167-4da1-a767-855d29edb210\" class=\"colab-df-container\">\n",
       "    <div>\n",
       "<style scoped>\n",
       "    .dataframe tbody tr th:only-of-type {\n",
       "        vertical-align: middle;\n",
       "    }\n",
       "\n",
       "    .dataframe tbody tr th {\n",
       "        vertical-align: top;\n",
       "    }\n",
       "\n",
       "    .dataframe thead th {\n",
       "        text-align: right;\n",
       "    }\n",
       "</style>\n",
       "<table border=\"1\" class=\"dataframe\">\n",
       "  <thead>\n",
       "    <tr style=\"text-align: right;\">\n",
       "      <th></th>\n",
       "      <th>RunId</th>\n",
       "      <th>iteration</th>\n",
       "      <th>Step</th>\n",
       "      <th>width</th>\n",
       "      <th>height</th>\n",
       "      <th>n</th>\n",
       "      <th>Gini</th>\n",
       "      <th>AgentID</th>\n",
       "      <th>Wealth</th>\n",
       "      <th>Steps_not_given</th>\n",
       "    </tr>\n",
       "  </thead>\n",
       "  <tbody>\n",
       "  </tbody>\n",
       "</table>\n",
       "</div>\n",
       "    <div class=\"colab-df-buttons\">\n",
       "\n",
       "  <div class=\"colab-df-container\">\n",
       "    <button class=\"colab-df-convert\" onclick=\"convertToInteractive('df-f87efd58-c167-4da1-a767-855d29edb210')\"\n",
       "            title=\"Convert this dataframe to an interactive table.\"\n",
       "            style=\"display:none;\">\n",
       "\n",
       "  <svg xmlns=\"http://www.w3.org/2000/svg\" height=\"24px\" viewBox=\"0 -960 960 960\">\n",
       "    <path d=\"M120-120v-720h720v720H120Zm60-500h600v-160H180v160Zm220 220h160v-160H400v160Zm0 220h160v-160H400v160ZM180-400h160v-160H180v160Zm440 0h160v-160H620v160ZM180-180h160v-160H180v160Zm440 0h160v-160H620v160Z\"/>\n",
       "  </svg>\n",
       "    </button>\n",
       "\n",
       "  <style>\n",
       "    .colab-df-container {\n",
       "      display:flex;\n",
       "      gap: 12px;\n",
       "    }\n",
       "\n",
       "    .colab-df-convert {\n",
       "      background-color: #E8F0FE;\n",
       "      border: none;\n",
       "      border-radius: 50%;\n",
       "      cursor: pointer;\n",
       "      display: none;\n",
       "      fill: #1967D2;\n",
       "      height: 32px;\n",
       "      padding: 0 0 0 0;\n",
       "      width: 32px;\n",
       "    }\n",
       "\n",
       "    .colab-df-convert:hover {\n",
       "      background-color: #E2EBFA;\n",
       "      box-shadow: 0px 1px 2px rgba(60, 64, 67, 0.3), 0px 1px 3px 1px rgba(60, 64, 67, 0.15);\n",
       "      fill: #174EA6;\n",
       "    }\n",
       "\n",
       "    .colab-df-buttons div {\n",
       "      margin-bottom: 4px;\n",
       "    }\n",
       "\n",
       "    [theme=dark] .colab-df-convert {\n",
       "      background-color: #3B4455;\n",
       "      fill: #D2E3FC;\n",
       "    }\n",
       "\n",
       "    [theme=dark] .colab-df-convert:hover {\n",
       "      background-color: #434B5C;\n",
       "      box-shadow: 0px 1px 3px 1px rgba(0, 0, 0, 0.15);\n",
       "      filter: drop-shadow(0px 1px 2px rgba(0, 0, 0, 0.3));\n",
       "      fill: #FFFFFF;\n",
       "    }\n",
       "  </style>\n",
       "\n",
       "    <script>\n",
       "      const buttonEl =\n",
       "        document.querySelector('#df-f87efd58-c167-4da1-a767-855d29edb210 button.colab-df-convert');\n",
       "      buttonEl.style.display =\n",
       "        google.colab.kernel.accessAllowed ? 'block' : 'none';\n",
       "\n",
       "      async function convertToInteractive(key) {\n",
       "        const element = document.querySelector('#df-f87efd58-c167-4da1-a767-855d29edb210');\n",
       "        const dataTable =\n",
       "          await google.colab.kernel.invokeFunction('convertToInteractive',\n",
       "                                                    [key], {});\n",
       "        if (!dataTable) return;\n",
       "\n",
       "        const docLinkHtml = 'Like what you see? Visit the ' +\n",
       "          '<a target=\"_blank\" href=https://colab.research.google.com/notebooks/data_table.ipynb>data table notebook</a>'\n",
       "          + ' to learn more about interactive tables.';\n",
       "        element.innerHTML = '';\n",
       "        dataTable['output_type'] = 'display_data';\n",
       "        await google.colab.output.renderOutput(dataTable, element);\n",
       "        const docLink = document.createElement('div');\n",
       "        docLink.innerHTML = docLinkHtml;\n",
       "        element.appendChild(docLink);\n",
       "      }\n",
       "    </script>\n",
       "  </div>\n",
       "\n",
       "\n",
       "    </div>\n",
       "  </div>\n"
      ],
      "text/plain": [
       "Empty DataFrame\n",
       "Columns: [RunId, iteration, Step, width, height, n, Gini, AgentID, Wealth, Steps_not_given]\n",
       "Index: []"
      ]
     },
     "execution_count": 28,
     "metadata": {},
     "output_type": "execute_result"
    }
   ],
   "source": [
    "# Again filter the results to only contain the data of one agent (the Gini coefficient will be the same for the entire population at any time)\n",
    "results_5s_df_filtered = results_5s_df[(results_5s_df.AgentID == 0)]\n",
    "results_5s_df_filtered.head(3)"
   ]
  },
  {
   "cell_type": "code",
   "execution_count": 29,
   "metadata": {
    "colab": {
     "base_uri": "https://localhost:8080/",
     "height": 431
    },
    "executionInfo": {
     "elapsed": 27184,
     "status": "ok",
     "timestamp": 1740644528069,
     "user": {
      "displayName": "Wassila Ouerdane",
      "userId": "06311256887956564892"
     },
     "user_tz": -60
    },
    "id": "o6SfkfVlsNJE",
    "outputId": "299cd8d4-0b54-4bca-a910-df1bee28195b"
   },
   "outputs": [
    {
     "data": {
      "image/png": "[encoded data removed]",
      "text/plain": [
       "<Figure size 800x400 with 1 Axes>"
      ]
     },
     "metadata": {},
     "output_type": "display_data"
    }
   ],
   "source": [
    "# Create a lineplot with error bars\n",
    "g = sns.lineplot(\n",
    "    data=results_5s_df,\n",
    "    x=\"Step\",\n",
    "    y=\"Gini\",\n",
    "    hue=\"n\",\n",
    "    errorbar=(\"ci\", 95),\n",
    "    palette=\"tab10\",\n",
    ")\n",
    "g.figure.set_size_inches(8, 4)\n",
    "plot_title = \"Gini coefficient for different population sizes\\n(mean over 100 runs, with 95% confidence interval)\"\n",
    "g.set(title=plot_title, ylabel=\"Gini coefficient\");\n"
   ]
  },
  {
   "cell_type": "markdown",
   "metadata": {
    "id": "rfM4-fhgsR3m"
   },
   "source": [
    "In this case it looks like the Gini coefficient increases slower for smaller populations. This can be because of different things, either because the Gini coefficient is a measure of inequality and the smaller the population, the more likely it is that the agents are all in the same wealth class, or because there are less interactions between agents in smaller populations, which means that the wealth of an agent is less likely to change."
   ]
  },
  {
   "cell_type": "code",
   "execution_count": null,
   "metadata": {
    "id": "y9iJSkDNK4KO"
   },
   "outputs": [],
   "source": [
    "# Challenge: Treat the seed as a parameter and see the impact on the Gini Coefficient.\n",
    "# You can also plot the seeds against the Gini Coefficient by changing the \"hue\" parameter in sns.lineplot function."
   ]
  },
  {
   "cell_type": "markdown",
   "metadata": {
    "id": "BlgnWWG-sYxT"
   },
   "source": [
    "### Analyzing agent reporters\n",
    "\n",
    "From the agents we collected the wealth and the number of consecutive rounds without a transaction. We can compare the 5 different population sizes by plotting the average number of consecutive rounds without a transaction for each population size.\n",
    "\n",
    "Note that we’re aggregating multiple times here: First we take the average of all agents for each single replication. Then we plot the averages for all replications, with the error band showing the 95% confidence interval of that first average (over all agents). So this error band is representing the uncertainty of the mean value of the number of consecutive rounds without a transaction for each population size."
   ]
  },
  {
   "cell_type": "code",
   "execution_count": 30,
   "metadata": {
    "colab": {
     "base_uri": "https://localhost:8080/",
     "height": 142
    },
    "executionInfo": {
     "elapsed": 129,
     "status": "ok",
     "timestamp": 1740644528196,
     "user": {
      "displayName": "Wassila Ouerdane",
      "userId": "06311256887956564892"
     },
     "user_tz": -60
    },
    "id": "zcy2a8KTscT_",
    "outputId": "a9c510f4-4c9b-4022-f94e-d5006c7ab6f7"
   },
   "outputs": [
    {
     "data": {
      "application/vnd.google.colaboratory.intrinsic+json": {
       "summary": "{\n  \"name\": \"agg_results_df\",\n  \"rows\": 60500,\n  \"fields\": [\n    {\n      \"column\": \"iteration\",\n      \"properties\": {\n        \"dtype\": \"number\",\n        \"std\": 28,\n        \"min\": 0,\n        \"max\": 99,\n        \"num_unique_values\": 100,\n        \"samples\": [\n          83,\n          53,\n          70\n        ],\n        \"semantic_type\": \"\",\n        \"description\": \"\"\n      }\n    },\n    {\n      \"column\": \"n\",\n      \"properties\": {\n        \"dtype\": \"number\",\n        \"std\": 27,\n        \"min\": 5,\n        \"max\": 80,\n        \"num_unique_values\": 5,\n        \"samples\": [\n          10,\n          80,\n          20\n        ],\n        \"semantic_type\": \"\",\n        \"description\": \"\"\n      }\n    },\n    {\n      \"column\": \"Step\",\n      \"properties\": {\n        \"dtype\": \"number\",\n        \"std\": 34,\n        \"min\": 0,\n        \"max\": 120,\n        \"num_unique_values\": 121,\n        \"samples\": [\n          44,\n          47,\n          4\n        ],\n        \"semantic_type\": \"\",\n        \"description\": \"\"\n      }\n    },\n    {\n      \"column\": \"Wealth\",\n      \"properties\": {\n        \"dtype\": \"number\",\n        \"std\": 0.0,\n        \"min\": 1.0,\n        \"max\": 1.0,\n        \"num_unique_values\": 1,\n        \"samples\": [\n          1.0\n        ],\n        \"semantic_type\": \"\",\n        \"description\": \"\"\n      }\n    },\n    {\n      \"column\": \"Steps_not_given\",\n      \"properties\": {\n        \"dtype\": \"number\",\n        \"std\": 6.202370155189754,\n        \"min\": 0.0,\n        \"max\": 59.4,\n        \"num_unique_values\": 514,\n        \"samples\": [\n          1.825\n        ],\n        \"semantic_type\": \"\",\n        \"description\": \"\"\n      }\n    }\n  ]\n}",
       "type": "dataframe",
       "variable_name": "agg_results_df"
      },
      "text/html": [
       "\n",
       "  <div id=\"df-7c451c00-f212-40ba-89cb-a38c10bb643a\" class=\"colab-df-container\">\n",
       "    <div>\n",
       "<style scoped>\n",
       "    .dataframe tbody tr th:only-of-type {\n",
       "        vertical-align: middle;\n",
       "    }\n",
       "\n",
       "    .dataframe tbody tr th {\n",
       "        vertical-align: top;\n",
       "    }\n",
       "\n",
       "    .dataframe thead th {\n",
       "        text-align: right;\n",
       "    }\n",
       "</style>\n",
       "<table border=\"1\" class=\"dataframe\">\n",
       "  <thead>\n",
       "    <tr style=\"text-align: right;\">\n",
       "      <th></th>\n",
       "      <th>iteration</th>\n",
       "      <th>n</th>\n",
       "      <th>Step</th>\n",
       "      <th>Wealth</th>\n",
       "      <th>Steps_not_given</th>\n",
       "    </tr>\n",
       "  </thead>\n",
       "  <tbody>\n",
       "    <tr>\n",
       "      <th>0</th>\n",
       "      <td>0</td>\n",
       "      <td>5</td>\n",
       "      <td>0</td>\n",
       "      <td>NaN</td>\n",
       "      <td>NaN</td>\n",
       "    </tr>\n",
       "    <tr>\n",
       "      <th>1</th>\n",
       "      <td>0</td>\n",
       "      <td>5</td>\n",
       "      <td>1</td>\n",
       "      <td>1.0</td>\n",
       "      <td>0.0</td>\n",
       "    </tr>\n",
       "    <tr>\n",
       "      <th>2</th>\n",
       "      <td>0</td>\n",
       "      <td>5</td>\n",
       "      <td>2</td>\n",
       "      <td>1.0</td>\n",
       "      <td>1.0</td>\n",
       "    </tr>\n",
       "  </tbody>\n",
       "</table>\n",
       "</div>\n",
       "    <div class=\"colab-df-buttons\">\n",
       "\n",
       "  <div class=\"colab-df-container\">\n",
       "    <button class=\"colab-df-convert\" onclick=\"convertToInteractive('df-7c451c00-f212-40ba-89cb-a38c10bb643a')\"\n",
       "            title=\"Convert this dataframe to an interactive table.\"\n",
       "            style=\"display:none;\">\n",
       "\n",
       "  <svg xmlns=\"http://www.w3.org/2000/svg\" height=\"24px\" viewBox=\"0 -960 960 960\">\n",
       "    <path d=\"M120-120v-720h720v720H120Zm60-500h600v-160H180v160Zm220 220h160v-160H400v160Zm0 220h160v-160H400v160ZM180-400h160v-160H180v160Zm440 0h160v-160H620v160ZM180-180h160v-160H180v160Zm440 0h160v-160H620v160Z\"/>\n",
       "  </svg>\n",
       "    </button>\n",
       "\n",
       "  <style>\n",
       "    .colab-df-container {\n",
       "      display:flex;\n",
       "      gap: 12px;\n",
       "    }\n",
       "\n",
       "    .colab-df-convert {\n",
       "      background-color: #E8F0FE;\n",
       "      border: none;\n",
       "      border-radius: 50%;\n",
       "      cursor: pointer;\n",
       "      display: none;\n",
       "      fill: #1967D2;\n",
       "      height: 32px;\n",
       "      padding: 0 0 0 0;\n",
       "      width: 32px;\n",
       "    }\n",
       "\n",
       "    .colab-df-convert:hover {\n",
       "      background-color: #E2EBFA;\n",
       "      box-shadow: 0px 1px 2px rgba(60, 64, 67, 0.3), 0px 1px 3px 1px rgba(60, 64, 67, 0.15);\n",
       "      fill: #174EA6;\n",
       "    }\n",
       "\n",
       "    .colab-df-buttons div {\n",
       "      margin-bottom: 4px;\n",
       "    }\n",
       "\n",
       "    [theme=dark] .colab-df-convert {\n",
       "      background-color: #3B4455;\n",
       "      fill: #D2E3FC;\n",
       "    }\n",
       "\n",
       "    [theme=dark] .colab-df-convert:hover {\n",
       "      background-color: #434B5C;\n",
       "      box-shadow: 0px 1px 3px 1px rgba(0, 0, 0, 0.15);\n",
       "      filter: drop-shadow(0px 1px 2px rgba(0, 0, 0, 0.3));\n",
       "      fill: #FFFFFF;\n",
       "    }\n",
       "  </style>\n",
       "\n",
       "    <script>\n",
       "      const buttonEl =\n",
       "        document.querySelector('#df-7c451c00-f212-40ba-89cb-a38c10bb643a button.colab-df-convert');\n",
       "      buttonEl.style.display =\n",
       "        google.colab.kernel.accessAllowed ? 'block' : 'none';\n",
       "\n",
       "      async function convertToInteractive(key) {\n",
       "        const element = document.querySelector('#df-7c451c00-f212-40ba-89cb-a38c10bb643a');\n",
       "        const dataTable =\n",
       "          await google.colab.kernel.invokeFunction('convertToInteractive',\n",
       "                                                    [key], {});\n",
       "        if (!dataTable) return;\n",
       "\n",
       "        const docLinkHtml = 'Like what you see? Visit the ' +\n",
       "          '<a target=\"_blank\" href=https://colab.research.google.com/notebooks/data_table.ipynb>data table notebook</a>'\n",
       "          + ' to learn more about interactive tables.';\n",
       "        element.innerHTML = '';\n",
       "        dataTable['output_type'] = 'display_data';\n",
       "        await google.colab.output.renderOutput(dataTable, element);\n",
       "        const docLink = document.createElement('div');\n",
       "        docLink.innerHTML = docLinkHtml;\n",
       "        element.appendChild(docLink);\n",
       "      }\n",
       "    </script>\n",
       "  </div>\n",
       "\n",
       "\n",
       "<div id=\"df-261a08af-b063-4f5d-a5ca-be6425fd0d92\">\n",
       "  <button class=\"colab-df-quickchart\" onclick=\"quickchart('df-261a08af-b063-4f5d-a5ca-be6425fd0d92')\"\n",
       "            title=\"Suggest charts\"\n",
       "            style=\"display:none;\">\n",
       "\n",
       "<svg xmlns=\"http://www.w3.org/2000/svg\" height=\"24px\"viewBox=\"0 0 24 24\"\n",
       "     width=\"24px\">\n",
       "    <g>\n",
       "        <path d=\"M19 3H5c-1.1 0-2 .9-2 2v14c0 1.1.9 2 2 2h14c1.1 0 2-.9 2-2V5c0-1.1-.9-2-2-2zM9 17H7v-7h2v7zm4 0h-2V7h2v10zm4 0h-2v-4h2v4z\"/>\n",
       "    </g>\n",
       "</svg>\n",
       "  </button>\n",
       "\n",
       "<style>\n",
       "  .colab-df-quickchart {\n",
       "      --bg-color: #E8F0FE;\n",
       "      --fill-color: #1967D2;\n",
       "      --hover-bg-color: #E2EBFA;\n",
       "      --hover-fill-color: #174EA6;\n",
       "      --disabled-fill-color: #AAA;\n",
       "      --disabled-bg-color: #DDD;\n",
       "  }\n",
       "\n",
       "  [theme=dark] .colab-df-quickchart {\n",
       "      --bg-color: #3B4455;\n",
       "      --fill-color: #D2E3FC;\n",
       "      --hover-bg-color: #434B5C;\n",
       "      --hover-fill-color: #FFFFFF;\n",
       "      --disabled-bg-color: #3B4455;\n",
       "      --disabled-fill-color: #666;\n",
       "  }\n",
       "\n",
       "  .colab-df-quickchart {\n",
       "    background-color: var(--bg-color);\n",
       "    border: none;\n",
       "    border-radius: 50%;\n",
       "    cursor: pointer;\n",
       "    display: none;\n",
       "    fill: var(--fill-color);\n",
       "    height: 32px;\n",
       "    padding: 0;\n",
       "    width: 32px;\n",
       "  }\n",
       "\n",
       "  .colab-df-quickchart:hover {\n",
       "    background-color: var(--hover-bg-color);\n",
       "    box-shadow: 0 1px 2px rgba(60, 64, 67, 0.3), 0 1px 3px 1px rgba(60, 64, 67, 0.15);\n",
       "    fill: var(--button-hover-fill-color);\n",
       "  }\n",
       "\n",
       "  .colab-df-quickchart-complete:disabled,\n",
       "  .colab-df-quickchart-complete:disabled:hover {\n",
       "    background-color: var(--disabled-bg-color);\n",
       "    fill: var(--disabled-fill-color);\n",
       "    box-shadow: none;\n",
       "  }\n",
       "\n",
       "  .colab-df-spinner {\n",
       "    border: 2px solid var(--fill-color);\n",
       "    border-color: transparent;\n",
       "    border-bottom-color: var(--fill-color);\n",
       "    animation:\n",
       "      spin 1s steps(1) infinite;\n",
       "  }\n",
       "\n",
       "  @keyframes spin {\n",
       "    0% {\n",
       "      border-color: transparent;\n",
       "      border-bottom-color: var(--fill-color);\n",
       "      border-left-color: var(--fill-color);\n",
       "    }\n",
       "    20% {\n",
       "      border-color: transparent;\n",
       "      border-left-color: var(--fill-color);\n",
       "      border-top-color: var(--fill-color);\n",
       "    }\n",
       "    30% {\n",
       "      border-color: transparent;\n",
       "      border-left-color: var(--fill-color);\n",
       "      border-top-color: var(--fill-color);\n",
       "      border-right-color: var(--fill-color);\n",
       "    }\n",
       "    40% {\n",
       "      border-color: transparent;\n",
       "      border-right-color: var(--fill-color);\n",
       "      border-top-color: var(--fill-color);\n",
       "    }\n",
       "    60% {\n",
       "      border-color: transparent;\n",
       "      border-right-color: var(--fill-color);\n",
       "    }\n",
       "    80% {\n",
       "      border-color: transparent;\n",
       "      border-right-color: var(--fill-color);\n",
       "      border-bottom-color: var(--fill-color);\n",
       "    }\n",
       "    90% {\n",
       "      border-color: transparent;\n",
       "      border-bottom-color: var(--fill-color);\n",
       "    }\n",
       "  }\n",
       "</style>\n",
       "\n",
       "  <script>\n",
       "    async function quickchart(key) {\n",
       "      const quickchartButtonEl =\n",
       "        document.querySelector('#' + key + ' button');\n",
       "      quickchartButtonEl.disabled = true;  // To prevent multiple clicks.\n",
       "      quickchartButtonEl.classList.add('colab-df-spinner');\n",
       "      try {\n",
       "        const charts = await google.colab.kernel.invokeFunction(\n",
       "            'suggestCharts', [key], {});\n",
       "      } catch (error) {\n",
       "        console.error('Error during call to suggestCharts:', error);\n",
       "      }\n",
       "      quickchartButtonEl.classList.remove('colab-df-spinner');\n",
       "      quickchartButtonEl.classList.add('colab-df-quickchart-complete');\n",
       "    }\n",
       "    (() => {\n",
       "      let quickchartButtonEl =\n",
       "        document.querySelector('#df-261a08af-b063-4f5d-a5ca-be6425fd0d92 button');\n",
       "      quickchartButtonEl.style.display =\n",
       "        google.colab.kernel.accessAllowed ? 'block' : 'none';\n",
       "    })();\n",
       "  </script>\n",
       "</div>\n",
       "\n",
       "    </div>\n",
       "  </div>\n"
      ],
      "text/plain": [
       "   iteration  n  Step  Wealth  Steps_not_given\n",
       "0          0  5     0     NaN              NaN\n",
       "1          0  5     1     1.0              0.0\n",
       "2          0  5     2     1.0              1.0"
      ]
     },
     "execution_count": 30,
     "metadata": {},
     "output_type": "execute_result"
    }
   ],
   "source": [
    "# Calculating the mean of the wealth and the number of consecutive rounds for all agents in each episode\n",
    "agg_results_df = (\n",
    "    results_5s_df.groupby([\"iteration\", \"n\", \"Step\"])\n",
    "    .agg({\"Wealth\": \"mean\", \"Steps_not_given\": \"mean\"})\n",
    "    .reset_index()\n",
    ")\n",
    "agg_results_df.head(3)"
   ]
  },
  {
   "cell_type": "code",
   "execution_count": 31,
   "metadata": {
    "colab": {
     "base_uri": "https://localhost:8080/"
    },
    "executionInfo": {
     "elapsed": 12925,
     "status": "ok",
     "timestamp": 1740644541124,
     "user": {
      "displayName": "Wassila Ouerdane",
      "userId": "06311256887956564892"
     },
     "user_tz": -60
    },
    "id": "rhpSIZ6ese-Q",
    "outputId": "3e935b83-518d-4f0a-eb58-1531ebafbf99"
   },
   "outputs": [
    {
     "data": {
      "image/png": "[encoded data removed]",
      "text/plain": [
       "<Figure size 800x400 with 1 Axes>"
      ]
     },
     "metadata": {},
     "output_type": "display_data"
    }
   ],
   "source": [
    "# Creating a line plot with error bars\n",
    "g = sns.lineplot(\n",
    "    data=agg_results_df, x=\"Step\", y=\"Steps_not_given\", hue=\"n\", palette=\"tab10\"\n",
    ")\n",
    "g.figure.set_size_inches(8, 4)\n",
    "g.set(\n",
    "    title=\"Average number of consecutive rounds without a transaction for different population sizes\\n(mean with 95% confidence interval)\",\n",
    "    ylabel=\"Consecutive rounds without a transaction\",\n",
    ");"
   ]
  },
  {
   "cell_type": "markdown",
   "metadata": {
    "id": "lBnWAE5ask30"
   },
   "source": [
    "it can be clearly seen that the lower the number of agents, the higher the number of consecutive rounds without a transaction. This is because the agents have fewer interactions with each other and therefore the wealth of an agent is less likely to change.\n",
    "\n"
   ]
  },
  {
   "cell_type": "markdown",
   "metadata": {
    "id": "UkhAGbQnst4i"
   },
   "source": [
    "# General steps for analyzing results\n",
    "\n",
    "Many other analysis are possible based on the policies, scenarios and uncertainties that you might be interested in. In general, you can follow these steps to do your own analysis:\n",
    "\n",
    "1. Determine which metrics you want to analyse. Add these as model and agent to the datacollector of your model.\n",
    "2. Determine the input parameters you want to vary. Add these as parameters to the batch_run function, using ranges or lists to test different values.\n",
    "3. Determine the hyperparameters of the batch_run function. Define the number of iterations, the number of processes, the number of steps, the data collection period, etc.\n",
    "4. Run the batch_run function and save the results.\n",
    "5. Transform, filter and aggregate the results to get the data you want to analyze. Make sure it’s in long format, so that each row represents a single value.\n",
    "6. Choose a plot type, what to plot on the x and y axis, which columns to use for the hue. Seaborn also has an amazing Example Gallery.\n",
    "7. Plot the data and analyze the results."
   ]
  }
 ],
 "metadata": {
  "colab": {
   "provenance": []
  },
  "kernelspec": {
   "display_name": "Python 3",
   "language": "python",
   "name": "python3"
  },
  "language_info": {
   "codemirror_mode": {
    "name": "ipython",
    "version": 3
   },
   "file_extension": ".py",
   "mimetype": "text/x-python",
   "name": "python",
   "nbconvert_exporter": "python",
   "pygments_lexer": "ipython3",
   "version": "3.12.8"
  },
  "widgets": {
   "application/vnd.jupyter.widget-state+json": {
    "2474261f477f45b39440b75b613e549e": {
     "model_module": "@jupyter-widgets/controls",
     "model_module_version": "1.5.0",
     "model_name": "ProgressStyleModel",
     "state": {
      "_model_module": "@jupyter-widgets/controls",
      "_model_module_version": "1.5.0",
      "_model_name": "ProgressStyleModel",
      "_view_count": null,
      "_view_module": "@jupyter-widgets/base",
      "_view_module_version": "1.2.0",
      "_view_name": "StyleView",
      "bar_color": null,
      "description_width": ""
     }
    },
    "2da8060414c643788e0631b818ffe87d": {
     "model_module": "@jupyter-widgets/controls",
     "model_module_version": "1.5.0",
     "model_name": "DescriptionStyleModel",
     "state": {
      "_model_module": "@jupyter-widgets/controls",
      "_model_module_version": "1.5.0",
      "_model_name": "DescriptionStyleModel",
      "_view_count": null,
      "_view_module": "@jupyter-widgets/base",
      "_view_module_version": "1.2.0",
      "_view_name": "StyleView",
      "description_width": ""
     }
    },
    "3c625750f22141268e1614c8550e85ad": {
     "model_module": "@jupyter-widgets/controls",
     "model_module_version": "1.5.0",
     "model_name": "DescriptionStyleModel",
     "state": {
      "_model_module": "@jupyter-widgets/controls",
      "_model_module_version": "1.5.0",
      "_model_name": "DescriptionStyleModel",
      "_view_count": null,
      "_view_module": "@jupyter-widgets/base",
      "_view_module_version": "1.2.0",
      "_view_name": "StyleView",
      "description_width": ""
     }
    },
    "3e88d65767a945fda7d85d0d562d2d7b": {
     "model_module": "@jupyter-widgets/controls",
     "model_module_version": "1.5.0",
     "model_name": "DescriptionStyleModel",
     "state": {
      "_model_module": "@jupyter-widgets/controls",
      "_model_module_version": "1.5.0",
      "_model_name": "DescriptionStyleModel",
      "_view_count": null,
      "_view_module": "@jupyter-widgets/base",
      "_view_module_version": "1.2.0",
      "_view_name": "StyleView",
      "description_width": ""
     }
    },
    "4aa75867b2ae4f9fbc59930a242ddb45": {
     "model_module": "@jupyter-widgets/base",
     "model_module_version": "1.2.0",
     "model_name": "LayoutModel",
     "state": {
      "_model_module": "@jupyter-widgets/base",
      "_model_module_version": "1.2.0",
      "_model_name": "LayoutModel",
      "_view_count": null,
      "_view_module": "@jupyter-widgets/base",
      "_view_module_version": "1.2.0",
      "_view_name": "LayoutView",
      "align_content": null,
      "align_items": null,
      "align_self": null,
      "border": null,
      "bottom": null,
      "display": null,
      "flex": null,
      "flex_flow": null,
      "grid_area": null,
      "grid_auto_columns": null,
      "grid_auto_flow": null,
      "grid_auto_rows": null,
      "grid_column": null,
      "grid_gap": null,
      "grid_row": null,
      "grid_template_areas": null,
      "grid_template_columns": null,
      "grid_template_rows": null,
      "height": null,
      "justify_content": null,
      "justify_items": null,
      "left": null,
      "margin": null,
      "max_height": null,
      "max_width": null,
      "min_height": null,
      "min_width": null,
      "object_fit": null,
      "object_position": null,
      "order": null,
      "overflow": null,
      "overflow_x": null,
      "overflow_y": null,
      "padding": null,
      "right": null,
      "top": null,
      "visibility": null,
      "width": null
     }
    },
    "4ba795e0402c4992b37542992cd7d441": {
     "model_module": "@jupyter-widgets/controls",
     "model_module_version": "1.5.0",
     "model_name": "HBoxModel",
     "state": {
      "_dom_classes": [],
      "_model_module": "@jupyter-widgets/controls",
      "_model_module_version": "1.5.0",
      "_model_name": "HBoxModel",
      "_view_count": null,
      "_view_module": "@jupyter-widgets/controls",
      "_view_module_version": "1.5.0",
      "_view_name": "HBoxView",
      "box_style": "",
      "children": [
       "IPY_MODEL_a94c8f60d56e4905a35f6e874884c049",
       "IPY_MODEL_972a49c10c24460eb73c0ff635ba12b1",
       "IPY_MODEL_6b576623710c463bb5d94aa58721bc3c"
      ],
      "layout": "IPY_MODEL_f8e8d4dbd03349a583f91ca73ee34269"
     }
    },
    "6b3576d92c6f407e9989dbb56fd899f8": {
     "model_module": "@jupyter-widgets/controls",
     "model_module_version": "1.5.0",
     "model_name": "FloatProgressModel",
     "state": {
      "_dom_classes": [],
      "_model_module": "@jupyter-widgets/controls",
      "_model_module_version": "1.5.0",
      "_model_name": "FloatProgressModel",
      "_view_count": null,
      "_view_module": "@jupyter-widgets/controls",
      "_view_module_version": "1.5.0",
      "_view_name": "ProgressView",
      "bar_style": "success",
      "description": "",
      "description_tooltip": null,
      "layout": "IPY_MODEL_df6e776d6f9d488c8bc30ed0c58e122b",
      "max": 500,
      "min": 0,
      "orientation": "horizontal",
      "style": "IPY_MODEL_82fd915f4cd44309931c71c465d77b69",
      "value": 500
     }
    },
    "6b576623710c463bb5d94aa58721bc3c": {
     "model_module": "@jupyter-widgets/controls",
     "model_module_version": "1.5.0",
     "model_name": "HTMLModel",
     "state": {
      "_dom_classes": [],
      "_model_module": "@jupyter-widgets/controls",
      "_model_module_version": "1.5.0",
      "_model_name": "HTMLModel",
      "_view_count": null,
      "_view_module": "@jupyter-widgets/controls",
      "_view_module_version": "1.5.0",
      "_view_name": "HTMLView",
      "description": "",
      "description_tooltip": null,
      "layout": "IPY_MODEL_937e3428fd4d4bd78366a9a0b5d6f644",
      "placeholder": "​",
      "style": "IPY_MODEL_3e88d65767a945fda7d85d0d562d2d7b",
      "value": " 133/133 [00:06&lt;00:00, 12.12it/s]"
     }
    },
    "82fd915f4cd44309931c71c465d77b69": {
     "model_module": "@jupyter-widgets/controls",
     "model_module_version": "1.5.0",
     "model_name": "ProgressStyleModel",
     "state": {
      "_model_module": "@jupyter-widgets/controls",
      "_model_module_version": "1.5.0",
      "_model_name": "ProgressStyleModel",
      "_view_count": null,
      "_view_module": "@jupyter-widgets/base",
      "_view_module_version": "1.2.0",
      "_view_name": "StyleView",
      "bar_color": null,
      "description_width": ""
     }
    },
    "937e3428fd4d4bd78366a9a0b5d6f644": {
     "model_module": "@jupyter-widgets/base",
     "model_module_version": "1.2.0",
     "model_name": "LayoutModel",
     "state": {
      "_model_module": "@jupyter-widgets/base",
      "_model_module_version": "1.2.0",
      "_model_name": "LayoutModel",
      "_view_count": null,
      "_view_module": "@jupyter-widgets/base",
      "_view_module_version": "1.2.0",
      "_view_name": "LayoutView",
      "align_content": null,
      "align_items": null,
      "align_self": null,
      "border": null,
      "bottom": null,
      "display": null,
      "flex": null,
      "flex_flow": null,
      "grid_area": null,
      "grid_auto_columns": null,
      "grid_auto_flow": null,
      "grid_auto_rows": null,
      "grid_column": null,
      "grid_gap": null,
      "grid_row": null,
      "grid_template_areas": null,
      "grid_template_columns": null,
      "grid_template_rows": null,
      "height": null,
      "justify_content": null,
      "justify_items": null,
      "left": null,
      "margin": null,
      "max_height": null,
      "max_width": null,
      "min_height": null,
      "min_width": null,
      "object_fit": null,
      "object_position": null,
      "order": null,
      "overflow": null,
      "overflow_x": null,
      "overflow_y": null,
      "padding": null,
      "right": null,
      "top": null,
      "visibility": null,
      "width": null
     }
    },
    "972a49c10c24460eb73c0ff635ba12b1": {
     "model_module": "@jupyter-widgets/controls",
     "model_module_version": "1.5.0",
     "model_name": "FloatProgressModel",
     "state": {
      "_dom_classes": [],
      "_model_module": "@jupyter-widgets/controls",
      "_model_module_version": "1.5.0",
      "_model_name": "FloatProgressModel",
      "_view_count": null,
      "_view_module": "@jupyter-widgets/controls",
      "_view_module_version": "1.5.0",
      "_view_name": "ProgressView",
      "bar_style": "success",
      "description": "",
      "description_tooltip": null,
      "layout": "IPY_MODEL_ca4d9f1bad484bbf9ec2d9fbed5fe1c7",
      "max": 133,
      "min": 0,
      "orientation": "horizontal",
      "style": "IPY_MODEL_2474261f477f45b39440b75b613e549e",
      "value": 133
     }
    },
    "a553a80188474895aa6170886859b1fa": {
     "model_module": "@jupyter-widgets/base",
     "model_module_version": "1.2.0",
     "model_name": "LayoutModel",
     "state": {
      "_model_module": "@jupyter-widgets/base",
      "_model_module_version": "1.2.0",
      "_model_name": "LayoutModel",
      "_view_count": null,
      "_view_module": "@jupyter-widgets/base",
      "_view_module_version": "1.2.0",
      "_view_name": "LayoutView",
      "align_content": null,
      "align_items": null,
      "align_self": null,
      "border": null,
      "bottom": null,
      "display": null,
      "flex": null,
      "flex_flow": null,
      "grid_area": null,
      "grid_auto_columns": null,
      "grid_auto_flow": null,
      "grid_auto_rows": null,
      "grid_column": null,
      "grid_gap": null,
      "grid_row": null,
      "grid_template_areas": null,
      "grid_template_columns": null,
      "grid_template_rows": null,
      "height": null,
      "justify_content": null,
      "justify_items": null,
      "left": null,
      "margin": null,
      "max_height": null,
      "max_width": null,
      "min_height": null,
      "min_width": null,
      "object_fit": null,
      "object_position": null,
      "order": null,
      "overflow": null,
      "overflow_x": null,
      "overflow_y": null,
      "padding": null,
      "right": null,
      "top": null,
      "visibility": null,
      "width": null
     }
    },
    "a93c9844c9904203a366a95f820c002c": {
     "model_module": "@jupyter-widgets/controls",
     "model_module_version": "1.5.0",
     "model_name": "HBoxModel",
     "state": {
      "_dom_classes": [],
      "_model_module": "@jupyter-widgets/controls",
      "_model_module_version": "1.5.0",
      "_model_name": "HBoxModel",
      "_view_count": null,
      "_view_module": "@jupyter-widgets/controls",
      "_view_module_version": "1.5.0",
      "_view_name": "HBoxView",
      "box_style": "",
      "children": [
       "IPY_MODEL_ebc9fb86fe854a549abe3064a07b5aac",
       "IPY_MODEL_6b3576d92c6f407e9989dbb56fd899f8",
       "IPY_MODEL_e84d50be256b4d5589f723a302a707c3"
      ],
      "layout": "IPY_MODEL_f5af8698ba8443e19151b6535a6f6ea7"
     }
    },
    "a94c8f60d56e4905a35f6e874884c049": {
     "model_module": "@jupyter-widgets/controls",
     "model_module_version": "1.5.0",
     "model_name": "HTMLModel",
     "state": {
      "_dom_classes": [],
      "_model_module": "@jupyter-widgets/controls",
      "_model_module_version": "1.5.0",
      "_model_name": "HTMLModel",
      "_view_count": null,
      "_view_module": "@jupyter-widgets/controls",
      "_view_module_version": "1.5.0",
      "_view_name": "HTMLView",
      "description": "",
      "description_tooltip": null,
      "layout": "IPY_MODEL_4aa75867b2ae4f9fbc59930a242ddb45",
      "placeholder": "​",
      "style": "IPY_MODEL_2da8060414c643788e0631b818ffe87d",
      "value": "100%"
     }
    },
    "ca4d9f1bad484bbf9ec2d9fbed5fe1c7": {
     "model_module": "@jupyter-widgets/base",
     "model_module_version": "1.2.0",
     "model_name": "LayoutModel",
     "state": {
      "_model_module": "@jupyter-widgets/base",
      "_model_module_version": "1.2.0",
      "_model_name": "LayoutModel",
      "_view_count": null,
      "_view_module": "@jupyter-widgets/base",
      "_view_module_version": "1.2.0",
      "_view_name": "LayoutView",
      "align_content": null,
      "align_items": null,
      "align_self": null,
      "border": null,
      "bottom": null,
      "display": null,
      "flex": null,
      "flex_flow": null,
      "grid_area": null,
      "grid_auto_columns": null,
      "grid_auto_flow": null,
      "grid_auto_rows": null,
      "grid_column": null,
      "grid_gap": null,
      "grid_row": null,
      "grid_template_areas": null,
      "grid_template_columns": null,
      "grid_template_rows": null,
      "height": null,
      "justify_content": null,
      "justify_items": null,
      "left": null,
      "margin": null,
      "max_height": null,
      "max_width": null,
      "min_height": null,
      "min_width": null,
      "object_fit": null,
      "object_position": null,
      "order": null,
      "overflow": null,
      "overflow_x": null,
      "overflow_y": null,
      "padding": null,
      "right": null,
      "top": null,
      "visibility": null,
      "width": null
     }
    },
    "df6e776d6f9d488c8bc30ed0c58e122b": {
     "model_module": "@jupyter-widgets/base",
     "model_module_version": "1.2.0",
     "model_name": "LayoutModel",
     "state": {
      "_model_module": "@jupyter-widgets/base",
      "_model_module_version": "1.2.0",
      "_model_name": "LayoutModel",
      "_view_count": null,
      "_view_module": "@jupyter-widgets/base",
      "_view_module_version": "1.2.0",
      "_view_name": "LayoutView",
      "align_content": null,
      "align_items": null,
      "align_self": null,
      "border": null,
      "bottom": null,
      "display": null,
      "flex": null,
      "flex_flow": null,
      "grid_area": null,
      "grid_auto_columns": null,
      "grid_auto_flow": null,
      "grid_auto_rows": null,
      "grid_column": null,
      "grid_gap": null,
      "grid_row": null,
      "grid_template_areas": null,
      "grid_template_columns": null,
      "grid_template_rows": null,
      "height": null,
      "justify_content": null,
      "justify_items": null,
      "left": null,
      "margin": null,
      "max_height": null,
      "max_width": null,
      "min_height": null,
      "min_width": null,
      "object_fit": null,
      "object_position": null,
      "order": null,
      "overflow": null,
      "overflow_x": null,
      "overflow_y": null,
      "padding": null,
      "right": null,
      "top": null,
      "visibility": null,
      "width": null
     }
    },
    "e84d50be256b4d5589f723a302a707c3": {
     "model_module": "@jupyter-widgets/controls",
     "model_module_version": "1.5.0",
     "model_name": "HTMLModel",
     "state": {
      "_dom_classes": [],
      "_model_module": "@jupyter-widgets/controls",
      "_model_module_version": "1.5.0",
      "_model_name": "HTMLModel",
      "_view_count": null,
      "_view_module": "@jupyter-widgets/controls",
      "_view_module_version": "1.5.0",
      "_view_name": "HTMLView",
      "description": "",
      "description_tooltip": null,
      "layout": "IPY_MODEL_fe5e1c7b0ffe4648b03d5e01f53f266d",
      "placeholder": "​",
      "style": "IPY_MODEL_3c625750f22141268e1614c8550e85ad",
      "value": " 500/500 [00:20&lt;00:00, 29.04it/s]"
     }
    },
    "ebc9fb86fe854a549abe3064a07b5aac": {
     "model_module": "@jupyter-widgets/controls",
     "model_module_version": "1.5.0",
     "model_name": "HTMLModel",
     "state": {
      "_dom_classes": [],
      "_model_module": "@jupyter-widgets/controls",
      "_model_module_version": "1.5.0",
      "_model_name": "HTMLModel",
      "_view_count": null,
      "_view_module": "@jupyter-widgets/controls",
      "_view_module_version": "1.5.0",
      "_view_name": "HTMLView",
      "description": "",
      "description_tooltip": null,
      "layout": "IPY_MODEL_a553a80188474895aa6170886859b1fa",
      "placeholder": "​",
      "style": "IPY_MODEL_f52369d0021f44fab6cb9be4e135965d",
      "value": "100%"
     }
    },
    "f52369d0021f44fab6cb9be4e135965d": {
     "model_module": "@jupyter-widgets/controls",
     "model_module_version": "1.5.0",
     "model_name": "DescriptionStyleModel",
     "state": {
      "_model_module": "@jupyter-widgets/controls",
      "_model_module_version": "1.5.0",
      "_model_name": "DescriptionStyleModel",
      "_view_count": null,
      "_view_module": "@jupyter-widgets/base",
      "_view_module_version": "1.2.0",
      "_view_name": "StyleView",
      "description_width": ""
     }
    },
    "f5af8698ba8443e19151b6535a6f6ea7": {
     "model_module": "@jupyter-widgets/base",
     "model_module_version": "1.2.0",
     "model_name": "LayoutModel",
     "state": {
      "_model_module": "@jupyter-widgets/base",
      "_model_module_version": "1.2.0",
      "_model_name": "LayoutModel",
      "_view_count": null,
      "_view_module": "@jupyter-widgets/base",
      "_view_module_version": "1.2.0",
      "_view_name": "LayoutView",
      "align_content": null,
      "align_items": null,
      "align_self": null,
      "border": null,
      "bottom": null,
      "display": null,
      "flex": null,
      "flex_flow": null,
      "grid_area": null,
      "grid_auto_columns": null,
      "grid_auto_flow": null,
      "grid_auto_rows": null,
      "grid_column": null,
      "grid_gap": null,
      "grid_row": null,
      "grid_template_areas": null,
      "grid_template_columns": null,
      "grid_template_rows": null,
      "height": null,
      "justify_content": null,
      "justify_items": null,
      "left": null,
      "margin": null,
      "max_height": null,
      "max_width": null,
      "min_height": null,
      "min_width": null,
      "object_fit": null,
      "object_position": null,
      "order": null,
      "overflow": null,
      "overflow_x": null,
      "overflow_y": null,
      "padding": null,
      "right": null,
      "top": null,
      "visibility": null,
      "width": null
     }
    },
    "f8e8d4dbd03349a583f91ca73ee34269": {
     "model_module": "@jupyter-widgets/base",
     "model_module_version": "1.2.0",
     "model_name": "LayoutModel",
     "state": {
      "_model_module": "@jupyter-widgets/base",
      "_model_module_version": "1.2.0",
      "_model_name": "LayoutModel",
      "_view_count": null,
      "_view_module": "@jupyter-widgets/base",
      "_view_module_version": "1.2.0",
      "_view_name": "LayoutView",
      "align_content": null,
      "align_items": null,
      "align_self": null,
      "border": null,
      "bottom": null,
      "display": null,
      "flex": null,
      "flex_flow": null,
      "grid_area": null,
      "grid_auto_columns": null,
      "grid_auto_flow": null,
      "grid_auto_rows": null,
      "grid_column": null,
      "grid_gap": null,
      "grid_row": null,
      "grid_template_areas": null,
      "grid_template_columns": null,
      "grid_template_rows": null,
      "height": null,
      "justify_content": null,
      "justify_items": null,
      "left": null,
      "margin": null,
      "max_height": null,
      "max_width": null,
      "min_height": null,
      "min_width": null,
      "object_fit": null,
      "object_position": null,
      "order": null,
      "overflow": null,
      "overflow_x": null,
      "overflow_y": null,
      "padding": null,
      "right": null,
      "top": null,
      "visibility": null,
      "width": null
     }
    },
    "fe5e1c7b0ffe4648b03d5e01f53f266d": {
     "model_module": "@jupyter-widgets/base",
     "model_module_version": "1.2.0",
     "model_name": "LayoutModel",
     "state": {
      "_model_module": "@jupyter-widgets/base",
      "_model_module_version": "1.2.0",
      "_model_name": "LayoutModel",
      "_view_count": null,
      "_view_module": "@jupyter-widgets/base",
      "_view_module_version": "1.2.0",
      "_view_name": "LayoutView",
      "align_content": null,
      "align_items": null,
      "align_self": null,
      "border": null,
      "bottom": null,
      "display": null,
      "flex": null,
      "flex_flow": null,
      "grid_area": null,
      "grid_auto_columns": null,
      "grid_auto_flow": null,
      "grid_auto_rows": null,
      "grid_column": null,
      "grid_gap": null,
      "grid_row": null,
      "grid_template_areas": null,
      "grid_template_columns": null,
      "grid_template_rows": null,
      "height": null,
      "justify_content": null,
      "justify_items": null,
      "left": null,
      "margin": null,
      "max_height": null,
      "max_width": null,
      "min_height": null,
      "min_width": null,
      "object_fit": null,
      "object_position": null,
      "order": null,
      "overflow": null,
      "overflow_x": null,
      "overflow_y": null,
      "padding": null,
      "right": null,
      "top": null,
      "visibility": null,
      "width": null
     }
    }
   }
  }
 },
 "nbformat": 4,
 "nbformat_minor": 0
}
